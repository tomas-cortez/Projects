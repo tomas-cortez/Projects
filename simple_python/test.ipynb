{
 "cells": [
  {
   "cell_type": "code",
   "execution_count": 6,
   "id": "a1200e58",
   "metadata": {},
   "outputs": [],
   "source": [
    "import pymongo"
   ]
  },
  {
   "cell_type": "code",
   "execution_count": 26,
   "id": "ed8e57c4",
   "metadata": {},
   "outputs": [],
   "source": [
    "myclient = pymongo.MongoClient(\"mongodb://localhost:27017/\")\n",
    "mydb = myclient[\"clinica\"]\n",
    "mycol = mydb[\"medicos\"] "
   ]
  },
  {
   "cell_type": "code",
   "execution_count": 30,
   "id": "4ecf6dc5",
   "metadata": {},
   "outputs": [],
   "source": [
    "lista = ([{\n",
    "\"matricula\": 1001,\n",
    "\"nombre\": \"PEREZ LUIS\",\n",
    "\"especialidad\": \"CARDIOLOGO\",\n",
    "\"sexo\":\"M\", \n",
    "\"email\":\"lperez@gmail.com\",\n",
    "\"celular\": \"3511011001\"\n",
    "},\n",
    "{\n",
    "\"matricula\": 1002,\n",
    "\"nombre\": \"OJEDA PATRICIA\",\n",
    "\"especialidad\": \"CIRUJANO\",\n",
    "\"sexo\":\"F\", \n",
    "\"email\":\"pojeda@gmail.com\",\n",
    "\"celular\": \"3511021002\"\n",
    "},\n",
    "{\n",
    "\"matricula\": 1003,\n",
    "\"nombre\": \"RAMIREZ CARLOS\",\n",
    "\"especialidad\": \"TRAUMATOLOGO\",\n",
    "\"sexo\":\"M\", \n",
    "\"celular\": \"3511031003\"\n",
    "},\n",
    "{\n",
    "\"matricula\": 1004,\n",
    "\"nombre\": \"MERCADO LORENA\",\n",
    "\"especialidad\": \"PEDIATRA\",\n",
    "\"sexo\":\"F\", \n",
    "\"celular\": \"3511041004\"\n",
    "},\n",
    "{\n",
    "\"matricula\": 1005,\n",
    "\"nombre\": \"FERNANDEZ RUBEN\",\n",
    "\"especialidad\": \"OFTALMOLOGO\",\n",
    "\"sexo\":\"M\"\n",
    "},\n",
    "{\n",
    "\"matricula\": 1006,\n",
    "\"nombre\": \"GONZALEZ ROXANA\",\n",
    "\"especialidad\": \"PEDIATRA\",\n",
    "\"sexo\":\"F\"\n",
    "},\n",
    "{\n",
    "\"matricula\": 1007,\n",
    "\"nombre\": \"RAMIREZ CARLOS\",\n",
    "\"especialidad\": \"TRAUMATOLOGO\",\n",
    "\"sexo\":\"M\", \n",
    "\"email\":\"cramirez@gmail.com\",\n",
    "\"celular\": \"3511071007\"\n",
    "},\n",
    "{\n",
    "\"matricula\": 1008,\n",
    "\"nombre\": \"ZAPATA PATRICIA\",\n",
    "\"especialidad\": \"ANESTESISTA\",\n",
    "\"sexo\":\"F\", \n",
    "\"email\":\"pzapata@gmail.com\",\n",
    "\"celular\": \"3511081008\"\n",
    "},\n",
    "{\n",
    "\"matricula\": 1009,\n",
    "\"nombre\": \"HEREDIA MANUEL\",\n",
    "\"especialidad\": \"PSICOLOGO\",\n",
    "\"sexo\":\"M\", \n",
    "\"email\":\"lperez@gmail.com\",\n",
    "\"celular\": \"3511091009\"\n",
    "}\n",
    "])"
   ]
  },
  {
   "cell_type": "code",
   "execution_count": 31,
   "id": "1483292f",
   "metadata": {},
   "outputs": [
    {
     "data": {
      "text/plain": [
       "<pymongo.results.InsertManyResult at 0x1e33345ef00>"
      ]
     },
     "execution_count": 31,
     "metadata": {},
     "output_type": "execute_result"
    }
   ],
   "source": [
    "mycol.insert_many(lista)"
   ]
  },
  {
   "cell_type": "code",
   "execution_count": 44,
   "id": "a7e06963",
   "metadata": {},
   "outputs": [],
   "source": [
    "#for x in mycol.find():\n",
    "#    print(x)"
   ]
  },
  {
   "cell_type": "code",
   "execution_count": 43,
   "id": "eac482fc",
   "metadata": {},
   "outputs": [
    {
     "data": {
      "text/plain": [
       "'for x in mycol.find({},{ \"matricula\": 1, \"nombre\": 1 , \"especialidad\": 1}):\\n    print(x)'"
      ]
     },
     "execution_count": 43,
     "metadata": {},
     "output_type": "execute_result"
    }
   ],
   "source": [
    "\"\"\"\n",
    "for x in mycol.find({},{ \"matricula\": 1, \"nombre\": 1 , \"especialidad\": 1}):\n",
    "    print(x)\n",
    "\"\"\""
   ]
  },
  {
   "cell_type": "code",
   "execution_count": 42,
   "id": "86af56d5",
   "metadata": {},
   "outputs": [
    {
     "name": "stdout",
     "output_type": "stream",
     "text": [
      "1001 , PEREZ LUIS , CARDIOLOGO\n",
      "1002 , OJEDA PATRICIA , CIRUJANO\n",
      "1003 , RAMIREZ CARLOS , TRAUMATOLOGO\n",
      "1004 , MERCADO LORENA , PEDIATRA\n",
      "1005 , FERNANDEZ RUBEN , OFTALMOLOGO\n",
      "1006 , GONZALEZ ROXANA , PEDIATRA\n",
      "1007 , RAMIREZ CARLOS , TRAUMATOLOGO\n",
      "1008 , ZAPATA PATRICIA , ANESTESISTA\n",
      "1009 , HEREDIA MANUEL , PSICOLOGO\n",
      "1001 , PEREZ LUIS , CARDIOLOGO\n",
      "1002 , OJEDA PATRICIA , CIRUJANO\n",
      "1003 , RAMIREZ CARLOS , TRAUMATOLOGO\n",
      "1004 , MERCADO LORENA , PEDIATRA\n",
      "1005 , FERNANDEZ RUBEN , OFTALMOLOGO\n",
      "1006 , GONZALEZ ROXANA , PEDIATRA\n",
      "1007 , RAMIREZ CARLOS , TRAUMATOLOGO\n",
      "1008 , ZAPATA PATRICIA , ANESTESISTA\n",
      "1009 , HEREDIA MANUEL , PSICOLOGO\n",
      "1001 , PEREZ LUIS , CARDIOLOGO\n",
      "1002 , OJEDA PATRICIA , CIRUJANO\n",
      "1003 , RAMIREZ CARLOS , TRAUMATOLOGO\n",
      "1004 , MERCADO LORENA , PEDIATRA\n",
      "1005 , FERNANDEZ RUBEN , OFTALMOLOGO\n",
      "1006 , GONZALEZ ROXANA , PEDIATRA\n",
      "1007 , RAMIREZ CARLOS , TRAUMATOLOGO\n",
      "1008 , ZAPATA PATRICIA , ANESTESISTA\n",
      "1009 , HEREDIA MANUEL , PSICOLOGO\n",
      "1001 , PEREZ LUIS , CARDIOLOGO\n",
      "1002 , OJEDA PATRICIA , CIRUJANO\n",
      "1003 , RAMIREZ CARLOS , TRAUMATOLOGO\n",
      "1004 , MERCADO LORENA , PEDIATRA\n",
      "1005 , FERNANDEZ RUBEN , OFTALMOLOGO\n",
      "1006 , GONZALEZ ROXANA , PEDIATRA\n",
      "1007 , RAMIREZ CARLOS , TRAUMATOLOGO\n",
      "1008 , ZAPATA PATRICIA , ANESTESISTA\n",
      "1009 , HEREDIA MANUEL , PSICOLOGO\n",
      "1001 , PEREZ LUIS , CARDIOLOGO\n",
      "1002 , OJEDA PATRICIA , CIRUJANO\n",
      "1003 , RAMIREZ CARLOS , TRAUMATOLOGO\n",
      "1004 , MERCADO LORENA , PEDIATRA\n",
      "1005 , FERNANDEZ RUBEN , OFTALMOLOGO\n",
      "1006 , GONZALEZ ROXANA , PEDIATRA\n",
      "1007 , RAMIREZ CARLOS , TRAUMATOLOGO\n",
      "1008 , ZAPATA PATRICIA , ANESTESISTA\n",
      "1009 , HEREDIA MANUEL , PSICOLOGO\n",
      "1001 , PEREZ LUIS , CARDIOLOGO\n",
      "1002 , OJEDA PATRICIA , CIRUJANO\n",
      "1003 , RAMIREZ CARLOS , TRAUMATOLOGO\n",
      "1004 , MERCADO LORENA , PEDIATRA\n",
      "1005 , FERNANDEZ RUBEN , OFTALMOLOGO\n",
      "1006 , GONZALEZ ROXANA , PEDIATRA\n",
      "1007 , RAMIREZ CARLOS , TRAUMATOLOGO\n",
      "1008 , ZAPATA PATRICIA , ANESTESISTA\n",
      "1009 , HEREDIA MANUEL , PSICOLOGO\n"
     ]
    }
   ],
   "source": [
    "for x in mycol.find():\n",
    "    print(x[\"matricula\"],\",\",x[\"nombre\"],\",\",x[\"especialidad\"])"
   ]
  }
 ],
 "metadata": {
  "kernelspec": {
   "display_name": "Python 3",
   "language": "python",
   "name": "python3"
  },
  "language_info": {
   "codemirror_mode": {
    "name": "ipython",
    "version": 3
   },
   "file_extension": ".py",
   "mimetype": "text/x-python",
   "name": "python",
   "nbconvert_exporter": "python",
   "pygments_lexer": "ipython3",
   "version": "3.8.8"
  }
 },
 "nbformat": 4,
 "nbformat_minor": 5
}
