{
 "cells": [
  {
   "cell_type": "code",
   "execution_count": 2,
   "source": [
    "import numpy as np"
   ],
   "outputs": [],
   "metadata": {
    "ExecuteTime": {
     "end_time": "2020-10-02T19:41:51.871342Z",
     "start_time": "2020-10-02T19:41:51.749668Z"
    }
   }
  },
  {
   "cell_type": "code",
   "execution_count": 31,
   "source": [
    "calificaciones=np.load(\"data/ratings_movie_lens.npy\")\r\n",
    "cali_1 = calificaciones\r\n",
    "calificaciones"
   ],
   "outputs": [
    {
     "output_type": "execute_result",
     "data": {
      "text/plain": [
       "array([[5., 3., 4., ..., 0., 0., 0.],\n",
       "       [4., 0., 0., ..., 0., 0., 0.],\n",
       "       [0., 0., 0., ..., 0., 0., 0.],\n",
       "       ...,\n",
       "       [5., 0., 0., ..., 0., 0., 0.],\n",
       "       [0., 0., 0., ..., 0., 0., 0.],\n",
       "       [0., 5., 0., ..., 0., 0., 0.]])"
      ]
     },
     "metadata": {},
     "execution_count": 31
    }
   ],
   "metadata": {
    "ExecuteTime": {
     "end_time": "2020-10-02T19:41:51.877325Z",
     "start_time": "2020-10-02T19:41:51.873337Z"
    }
   }
  },
  {
   "cell_type": "code",
   "execution_count": 4,
   "source": [
    "calificaciones[0:1],calificaciones[942,1]"
   ],
   "outputs": [
    {
     "output_type": "execute_result",
     "data": {
      "text/plain": [
       "(array([[5., 3., 4., ..., 0., 0., 0.]]), 5.0)"
      ]
     },
     "metadata": {},
     "execution_count": 4
    }
   ],
   "metadata": {
    "ExecuteTime": {
     "end_time": "2020-10-02T19:41:51.884306Z",
     "start_time": "2020-10-02T19:41:51.880317Z"
    }
   }
  },
  {
   "cell_type": "code",
   "execution_count": 5,
   "source": [
    "calificaciones.shape\r\n",
    "q_usuarios = 943\r\n",
    "q_peliculas = 1682"
   ],
   "outputs": [],
   "metadata": {
    "ExecuteTime": {
     "end_time": "2020-10-02T19:41:51.890316Z",
     "start_time": "2020-10-02T19:41:51.887300Z"
    }
   }
  },
  {
   "cell_type": "code",
   "execution_count": 6,
   "source": [
    "np.sum(calificaciones>0)"
   ],
   "outputs": [
    {
     "output_type": "execute_result",
     "data": {
      "text/plain": [
       "100000"
      ]
     },
     "metadata": {},
     "execution_count": 6
    }
   ],
   "metadata": {
    "ExecuteTime": {
     "end_time": "2020-10-02T19:41:51.896274Z",
     "start_time": "2020-10-02T19:41:51.892285Z"
    }
   }
  },
  {
   "cell_type": "code",
   "execution_count": 9,
   "source": [
    "a = np.array(np.sum(calificaciones>0,axis=1))"
   ],
   "outputs": [],
   "metadata": {
    "ExecuteTime": {
     "end_time": "2020-10-02T19:23:09.860702Z",
     "start_time": "2020-10-02T19:23:09.851725Z"
    }
   }
  },
  {
   "cell_type": "code",
   "execution_count": 7,
   "source": [
    "q_calificaciones_reales = np.sum(calificaciones>0)"
   ],
   "outputs": [],
   "metadata": {
    "ExecuteTime": {
     "end_time": "2020-10-02T19:23:09.866686Z",
     "start_time": "2020-10-02T19:23:09.862696Z"
    }
   }
  },
  {
   "cell_type": "code",
   "execution_count": 10,
   "source": [
    "q_users_10 = a[:10]\r\n",
    "q_users_10"
   ],
   "outputs": [
    {
     "output_type": "execute_result",
     "data": {
      "text/plain": [
       "array([272,  62,  54,  24, 175, 211, 403,  59,  22, 184])"
      ]
     },
     "metadata": {},
     "execution_count": 10
    }
   ],
   "metadata": {
    "ExecuteTime": {
     "end_time": "2020-10-02T19:41:51.908267Z",
     "start_time": "2020-10-02T19:41:51.905250Z"
    }
   }
  },
  {
   "cell_type": "code",
   "execution_count": 17,
   "source": [
    "#q_promedio_pelis_xusuario = q_calificaciones_reales/q_usuarios\r\n",
    "q_promedio_pelis_xusuario = np.mean(np.array(np.sum(calificaciones>0,axis=1)))\r\n",
    "q_promedio_pelis_xusuario"
   ],
   "outputs": [
    {
     "output_type": "execute_result",
     "data": {
      "text/plain": [
       "106.04453870625663"
      ]
     },
     "metadata": {},
     "execution_count": 17
    }
   ],
   "metadata": {
    "ExecuteTime": {
     "end_time": "2020-10-02T19:41:51.915223Z",
     "start_time": "2020-10-02T19:41:51.911234Z"
    }
   }
  },
  {
   "cell_type": "code",
   "execution_count": 140,
   "source": [
    "np.array(np.sum(calificaciones>0,axis=0))"
   ],
   "outputs": [
    {
     "output_type": "execute_result",
     "data": {
      "text/plain": [
       "array([452, 131,  90, ...,   1,   1,   1])"
      ]
     },
     "metadata": {},
     "execution_count": 140
    }
   ],
   "metadata": {
    "ExecuteTime": {
     "end_time": "2020-10-02T19:41:51.932180Z",
     "start_time": "2020-10-02T19:41:51.929187Z"
    }
   }
  },
  {
   "cell_type": "code",
   "execution_count": 141,
   "source": [
    "q_calif_10_pelis = np.array(np.sum(calificaciones>0,axis=0)[:10])\r\n",
    "q_calif_10_pelis"
   ],
   "outputs": [
    {
     "output_type": "execute_result",
     "data": {
      "text/plain": [
       "array([452, 131,  90, 209,  86,  26, 392, 219, 299,  89])"
      ]
     },
     "metadata": {},
     "execution_count": 141
    }
   ],
   "metadata": {
    "ExecuteTime": {
     "end_time": "2020-10-02T19:41:51.953121Z",
     "start_time": "2020-10-02T19:41:51.949134Z"
    }
   }
  },
  {
   "cell_type": "markdown",
   "source": [
    "### calcular la calificación promedio para cada una de las películas utilizando para ello las calificaciones válidas.  "
   ],
   "metadata": {}
  },
  {
   "cell_type": "code",
   "execution_count": 26,
   "source": [
    "calificacionesNAN = calificaciones\r\n",
    "calificacionesNAN[calificacionesNAN==0]=np.nan\r\n",
    "\r\n",
    "d=np.nanmean(calificacionesNAN,axis=0)\r\n",
    "d\r\n",
    "#(use NAN porque tener valores iguales a cero afectaria el promedio real)"
   ],
   "outputs": [
    {
     "output_type": "execute_result",
     "data": {
      "text/plain": [
       "array([3.87831858, 3.20610687, 3.03333333, ..., 2.        , 3.        ,\n",
       "       3.        ])"
      ]
     },
     "metadata": {},
     "execution_count": 26
    }
   ],
   "metadata": {
    "ExecuteTime": {
     "end_time": "2020-10-02T19:41:51.991020Z",
     "start_time": "2020-10-02T19:41:51.987039Z"
    }
   }
  },
  {
   "cell_type": "code",
   "execution_count": 21,
   "source": [
    "best_mean_rating = np.nanmax(np.nanmean(calificacionesNAN,axis=0))\r\n",
    "best_mean_rating\r\n",
    "#(el promedio no es tan representativo, ya que la pelicula cuenta con la calificacion de un solo usuario)"
   ],
   "outputs": [
    {
     "output_type": "execute_result",
     "data": {
      "text/plain": [
       "5.0"
      ]
     },
     "metadata": {},
     "execution_count": 21
    }
   ],
   "metadata": {
    "ExecuteTime": {
     "end_time": "2020-10-02T19:41:51.997005Z",
     "start_time": "2020-10-02T19:41:51.993016Z"
    }
   }
  },
  {
   "cell_type": "code",
   "execution_count": 22,
   "source": [
    "id_best_mean_rating = np.argmax(np.nanmean(calificacionesNAN,axis=0))"
   ],
   "outputs": [],
   "metadata": {
    "ExecuteTime": {
     "end_time": "2020-10-02T19:41:52.002990Z",
     "start_time": "2020-10-02T19:41:51.999996Z"
    }
   }
  },
  {
   "cell_type": "code",
   "execution_count": 23,
   "source": [
    "best_mean_rating,id_best_mean_rating"
   ],
   "outputs": [
    {
     "output_type": "execute_result",
     "data": {
      "text/plain": [
       "(5.0, 813)"
      ]
     },
     "metadata": {},
     "execution_count": 23
    }
   ],
   "metadata": {
    "ExecuteTime": {
     "end_time": "2020-10-02T19:41:52.016952Z",
     "start_time": "2020-10-02T19:41:52.012975Z"
    }
   }
  },
  {
   "cell_type": "code",
   "execution_count": 27,
   "source": [
    "e = np.array(d>=3)\r\n",
    "np.sum(e==0,axis=0)"
   ],
   "outputs": [
    {
     "output_type": "execute_result",
     "data": {
      "text/plain": [
       "628"
      ]
     },
     "metadata": {},
     "execution_count": 27
    }
   ],
   "metadata": {
    "ExecuteTime": {
     "end_time": "2020-10-02T19:41:52.029918Z",
     "start_time": "2020-10-02T19:41:52.025927Z"
    }
   }
  },
  {
   "cell_type": "code",
   "execution_count": 32,
   "source": [
    "prom = np.nanmean(calificacionesNAN)\r\n",
    "ratingsDamped = np.where(cali_1==0,prom,cali_1)\r\n",
    "means=np.mean(ratingsDamped,axis=0)\r\n",
    "\r\n",
    "ratingsDamped,means"
   ],
   "outputs": [
    {
     "output_type": "execute_result",
     "data": {
      "text/plain": [
       "(array([[5.     , 3.     , 4.     , ..., 3.52986, 3.52986, 3.52986],\n",
       "        [4.     , 3.52986, 3.52986, ..., 3.52986, 3.52986, 3.52986],\n",
       "        [3.52986, 3.52986, 3.52986, ..., 3.52986, 3.52986, 3.52986],\n",
       "        ...,\n",
       "        [5.     , 3.52986, 3.52986, ..., 3.52986, 3.52986, 3.52986],\n",
       "        [3.52986, 3.52986, 3.52986, ..., 3.52986, 3.52986, 3.52986],\n",
       "        [3.52986, 5.     , 3.52986, ..., 3.52986, 3.52986, 3.52986]]),\n",
       " array([3.69688363, 3.48488475, 3.48247145, ..., 3.52823767, 3.52929811,\n",
       "        3.52929811]))"
      ]
     },
     "metadata": {},
     "execution_count": 32
    }
   ],
   "metadata": {
    "ExecuteTime": {
     "end_time": "2020-10-02T19:41:52.075797Z",
     "start_time": "2020-10-02T19:41:52.072803Z"
    },
    "scrolled": true
   }
  },
  {
   "cell_type": "code",
   "execution_count": 33,
   "source": [
    "best_damped_rating = np.max(means)\r\n",
    "\r\n",
    "id_best_damped_rating = np.argmax(means)"
   ],
   "outputs": [],
   "metadata": {
    "ExecuteTime": {
     "end_time": "2020-10-02T19:41:52.081780Z",
     "start_time": "2020-10-02T19:41:52.077791Z"
    }
   }
  },
  {
   "cell_type": "code",
   "execution_count": 34,
   "source": [
    "ratingsDamped,best_damped_rating,id_best_damped_rating"
   ],
   "outputs": [
    {
     "output_type": "execute_result",
     "data": {
      "text/plain": [
       "(array([[5.     , 3.     , 4.     , ..., 3.52986, 3.52986, 3.52986],\n",
       "        [4.     , 3.52986, 3.52986, ..., 3.52986, 3.52986, 3.52986],\n",
       "        [3.52986, 3.52986, 3.52986, ..., 3.52986, 3.52986, 3.52986],\n",
       "        ...,\n",
       "        [5.     , 3.52986, 3.52986, ..., 3.52986, 3.52986, 3.52986],\n",
       "        [3.52986, 3.52986, 3.52986, ..., 3.52986, 3.52986, 3.52986],\n",
       "        [3.52986, 5.     , 3.52986, ..., 3.52986, 3.52986, 3.52986]]),\n",
       " 4.042152279957607,\n",
       " 49)"
      ]
     },
     "metadata": {},
     "execution_count": 34
    }
   ],
   "metadata": {
    "ExecuteTime": {
     "end_time": "2020-10-02T19:41:52.087765Z",
     "start_time": "2020-10-02T19:41:52.084771Z"
    }
   }
  },
  {
   "cell_type": "code",
   "execution_count": 42,
   "source": [
    "dam = np.array(means>=3)\r\n",
    "q_damped_3 = np.sum(dam==1,axis=0)\r\n",
    "q_damped_3\r\n",
    "#(todos los valores iguales a \"nan\" fueron igualados al promedio)"
   ],
   "outputs": [
    {
     "output_type": "execute_result",
     "data": {
      "text/plain": [
       "1682"
      ]
     },
     "metadata": {},
     "execution_count": 42
    }
   ],
   "metadata": {
    "ExecuteTime": {
     "end_time": "2020-10-02T19:41:52.107711Z",
     "start_time": "2020-10-02T19:41:52.103722Z"
    }
   }
  },
  {
   "cell_type": "markdown",
   "source": [
    "Cargue el vector vec_decay:"
   ],
   "metadata": {
    "ExecuteTime": {
     "end_time": "2019-10-18T11:50:03.980071Z",
     "start_time": "2019-10-18T11:50:03.974087Z"
    }
   }
  },
  {
   "cell_type": "code",
   "execution_count": 35,
   "source": [
    "vec_decay=np.load(\"data/vec_decay.npy\") \r\n",
    "vec_decay"
   ],
   "outputs": [
    {
     "output_type": "execute_result",
     "data": {
      "text/plain": [
       "array([0.84823459, 0.64306967, 0.61342573, ..., 0.50813415, 0.86873329,\n",
       "       0.72372801])"
      ]
     },
     "metadata": {},
     "execution_count": 35
    }
   ],
   "metadata": {
    "ExecuteTime": {
     "end_time": "2020-10-02T19:41:52.172536Z",
     "start_time": "2020-10-02T19:41:52.169544Z"
    }
   }
  },
  {
   "cell_type": "code",
   "execution_count": 36,
   "source": [
    "calificaciones"
   ],
   "outputs": [
    {
     "output_type": "execute_result",
     "data": {
      "text/plain": [
       "array([[5., 3., 4., ..., 0., 0., 0.],\n",
       "       [4., 0., 0., ..., 0., 0., 0.],\n",
       "       [0., 0., 0., ..., 0., 0., 0.],\n",
       "       ...,\n",
       "       [5., 0., 0., ..., 0., 0., 0.],\n",
       "       [0., 0., 0., ..., 0., 0., 0.],\n",
       "       [0., 5., 0., ..., 0., 0., 0.]])"
      ]
     },
     "metadata": {},
     "execution_count": 36
    }
   ],
   "metadata": {
    "ExecuteTime": {
     "end_time": "2020-10-02T19:42:00.659843Z",
     "start_time": "2020-10-02T19:42:00.655853Z"
    }
   }
  },
  {
   "cell_type": "code",
   "execution_count": 37,
   "source": [
    "calificaciones_decay = vec_decay*calificaciones\r\n",
    "calificaciones_decay2 = calificaciones_decay\r\n",
    "calificaciones_decay2"
   ],
   "outputs": [
    {
     "output_type": "execute_result",
     "data": {
      "text/plain": [
       "array([[4.24117296, 1.929209  , 2.45370291, ..., 0.        , 0.        ,\n",
       "        0.        ],\n",
       "       [3.39293837, 0.        , 0.        , ..., 0.        , 0.        ,\n",
       "        0.        ],\n",
       "       [0.        , 0.        , 0.        , ..., 0.        , 0.        ,\n",
       "        0.        ],\n",
       "       ...,\n",
       "       [4.24117296, 0.        , 0.        , ..., 0.        , 0.        ,\n",
       "        0.        ],\n",
       "       [0.        , 0.        , 0.        , ..., 0.        , 0.        ,\n",
       "        0.        ],\n",
       "       [0.        , 3.21534834, 0.        , ..., 0.        , 0.        ,\n",
       "        0.        ]])"
      ]
     },
     "metadata": {},
     "execution_count": 37
    }
   ],
   "metadata": {
    "ExecuteTime": {
     "end_time": "2020-10-02T19:41:52.332109Z",
     "start_time": "2020-10-02T19:41:52.218Z"
    }
   }
  },
  {
   "cell_type": "code",
   "execution_count": 47,
   "source": [
    "\r\n",
    "calificaciones_decay[calificaciones_decay==0]=np.nan\r\n",
    "\r\n",
    "prom_cali_decay_nan = np.nanmean(calificaciones_decay)\r\n",
    "\r\n",
    "\r\n",
    "decay_damped = np.where((vec_decay*calificaciones)==0,prom_cali_decay_nan,(vec_decay*calificaciones))\r\n"
   ],
   "outputs": [],
   "metadata": {
    "ExecuteTime": {
     "end_time": "2020-10-02T19:41:52.333106Z",
     "start_time": "2020-10-02T19:41:52.295Z"
    },
    "scrolled": false
   }
  },
  {
   "cell_type": "code",
   "execution_count": 48,
   "source": [
    "calificaciones_decay = vec_decay*calificaciones\r\n",
    "best_decay_damped = np.max(decay_damped)\r\n",
    "best_decay_damped"
   ],
   "outputs": [
    {
     "output_type": "execute_result",
     "data": {
      "text/plain": [
       "4.99868543324212"
      ]
     },
     "metadata": {},
     "execution_count": 48
    }
   ],
   "metadata": {
    "ExecuteTime": {
     "end_time": "2020-10-02T19:41:52.334104Z",
     "start_time": "2020-10-02T19:41:52.298Z"
    }
   }
  },
  {
   "cell_type": "code",
   "execution_count": 49,
   "source": [
    "pd = np.mean(decay_damped,axis=0)\r\n",
    "id_best_decay_damped = np.argmax(pd)\r\n",
    "id_best_decay_damped"
   ],
   "outputs": [
    {
     "output_type": "execute_result",
     "data": {
      "text/plain": [
       "173"
      ]
     },
     "metadata": {},
     "execution_count": 49
    }
   ],
   "metadata": {
    "ExecuteTime": {
     "end_time": "2020-10-02T19:41:52.336110Z",
     "start_time": "2020-10-02T19:41:52.301Z"
    }
   }
  },
  {
   "cell_type": "code",
   "execution_count": 12,
   "source": [
    "q_usuarios"
   ],
   "outputs": [
    {
     "output_type": "execute_result",
     "data": {
      "text/plain": [
       "943"
      ]
     },
     "metadata": {},
     "execution_count": 12
    }
   ],
   "metadata": {
    "ExecuteTime": {
     "end_time": "2020-10-02T19:41:52.436829Z",
     "start_time": "2020-10-02T19:41:52.432841Z"
    }
   }
  },
  {
   "cell_type": "code",
   "execution_count": 13,
   "source": [
    "q_peliculas"
   ],
   "outputs": [
    {
     "output_type": "execute_result",
     "data": {
      "text/plain": [
       "1682"
      ]
     },
     "metadata": {},
     "execution_count": 13
    }
   ],
   "metadata": {
    "ExecuteTime": {
     "end_time": "2020-10-02T19:41:52.443810Z",
     "start_time": "2020-10-02T19:41:52.439822Z"
    }
   }
  },
  {
   "cell_type": "code",
   "execution_count": 14,
   "source": [
    "q_calificaciones_reales"
   ],
   "outputs": [
    {
     "output_type": "execute_result",
     "data": {
      "text/plain": [
       "100000"
      ]
     },
     "metadata": {},
     "execution_count": 14
    }
   ],
   "metadata": {
    "ExecuteTime": {
     "end_time": "2020-10-02T19:41:52.450793Z",
     "start_time": "2020-10-02T19:41:52.446804Z"
    }
   }
  },
  {
   "cell_type": "code",
   "execution_count": 15,
   "source": [
    "q_users_10"
   ],
   "outputs": [
    {
     "output_type": "execute_result",
     "data": {
      "text/plain": [
       "array([272,  62,  54,  24, 175, 211, 403,  59,  22, 184])"
      ]
     },
     "metadata": {},
     "execution_count": 15
    }
   ],
   "metadata": {
    "ExecuteTime": {
     "end_time": "2020-10-02T19:41:52.457773Z",
     "start_time": "2020-10-02T19:41:52.453785Z"
    }
   }
  },
  {
   "cell_type": "code",
   "execution_count": 18,
   "source": [
    "q_promedio_pelis_xusuario"
   ],
   "outputs": [
    {
     "output_type": "execute_result",
     "data": {
      "text/plain": [
       "106.04453870625663"
      ]
     },
     "metadata": {},
     "execution_count": 18
    }
   ],
   "metadata": {
    "ExecuteTime": {
     "end_time": "2020-10-02T19:41:52.464755Z",
     "start_time": "2020-10-02T19:41:52.460765Z"
    }
   }
  },
  {
   "cell_type": "code",
   "execution_count": 155,
   "source": [
    "q_calif_10_pelis"
   ],
   "outputs": [
    {
     "output_type": "execute_result",
     "data": {
      "text/plain": [
       "array([452, 131,  90, 209,  86,  26, 392, 219, 299,  89])"
      ]
     },
     "metadata": {},
     "execution_count": 155
    }
   ],
   "metadata": {
    "ExecuteTime": {
     "end_time": "2020-10-02T19:41:52.471736Z",
     "start_time": "2020-10-02T19:41:52.467746Z"
    }
   }
  },
  {
   "cell_type": "markdown",
   "source": [
    "### PROBLEMA 1"
   ],
   "metadata": {}
  },
  {
   "cell_type": "code",
   "execution_count": 28,
   "source": [
    "best_mean_rating"
   ],
   "outputs": [
    {
     "output_type": "execute_result",
     "data": {
      "text/plain": [
       "5.0"
      ]
     },
     "metadata": {},
     "execution_count": 28
    }
   ],
   "metadata": {
    "ExecuteTime": {
     "end_time": "2020-10-02T19:41:52.479715Z",
     "start_time": "2020-10-02T19:41:52.475725Z"
    }
   }
  },
  {
   "cell_type": "code",
   "execution_count": 157,
   "source": [
    "id_best_mean_rating"
   ],
   "outputs": [
    {
     "output_type": "execute_result",
     "data": {
      "text/plain": [
       "813"
      ]
     },
     "metadata": {},
     "execution_count": 157
    }
   ],
   "metadata": {
    "ExecuteTime": {
     "end_time": "2020-10-02T19:41:52.486696Z",
     "start_time": "2020-10-02T19:41:52.482706Z"
    }
   }
  },
  {
   "cell_type": "markdown",
   "source": [
    "### PROBLEMA 2"
   ],
   "metadata": {}
  },
  {
   "cell_type": "code",
   "execution_count": 38,
   "source": [
    "ratingsDamped"
   ],
   "outputs": [
    {
     "output_type": "execute_result",
     "data": {
      "text/plain": [
       "array([[5.     , 3.     , 4.     , ..., 3.52986, 3.52986, 3.52986],\n",
       "       [4.     , 3.52986, 3.52986, ..., 3.52986, 3.52986, 3.52986],\n",
       "       [3.52986, 3.52986, 3.52986, ..., 3.52986, 3.52986, 3.52986],\n",
       "       ...,\n",
       "       [5.     , 3.52986, 3.52986, ..., 3.52986, 3.52986, 3.52986],\n",
       "       [3.52986, 3.52986, 3.52986, ..., 3.52986, 3.52986, 3.52986],\n",
       "       [3.52986, 5.     , 3.52986, ..., 3.52986, 3.52986, 3.52986]])"
      ]
     },
     "metadata": {},
     "execution_count": 38
    }
   ],
   "metadata": {
    "ExecuteTime": {
     "end_time": "2020-10-02T19:41:52.527587Z",
     "start_time": "2020-10-02T19:41:52.523598Z"
    }
   }
  },
  {
   "cell_type": "code",
   "execution_count": 159,
   "source": [
    "best_damped_rating"
   ],
   "outputs": [
    {
     "output_type": "execute_result",
     "data": {
      "text/plain": [
       "4.042152279957607"
      ]
     },
     "metadata": {},
     "execution_count": 159
    }
   ],
   "metadata": {
    "ExecuteTime": {
     "end_time": "2020-10-02T19:41:52.533570Z",
     "start_time": "2020-10-02T19:41:52.530578Z"
    }
   }
  },
  {
   "cell_type": "code",
   "execution_count": 39,
   "source": [
    "id_best_damped_rating"
   ],
   "outputs": [
    {
     "output_type": "execute_result",
     "data": {
      "text/plain": [
       "49"
      ]
     },
     "metadata": {},
     "execution_count": 39
    }
   ],
   "metadata": {
    "ExecuteTime": {
     "end_time": "2020-10-02T19:41:52.548530Z",
     "start_time": "2020-10-02T19:41:52.544543Z"
    }
   }
  },
  {
   "cell_type": "code",
   "execution_count": 43,
   "source": [
    "q_damped_3"
   ],
   "outputs": [
    {
     "output_type": "execute_result",
     "data": {
      "text/plain": [
       "1682"
      ]
     },
     "metadata": {},
     "execution_count": 43
    }
   ],
   "metadata": {
    "ExecuteTime": {
     "end_time": "2020-10-02T19:41:52.555512Z",
     "start_time": "2020-10-02T19:41:52.551523Z"
    }
   }
  },
  {
   "cell_type": "markdown",
   "source": [
    "### PROBLEMA 3"
   ],
   "metadata": {}
  },
  {
   "cell_type": "code",
   "execution_count": 44,
   "source": [
    "calificaciones_decay"
   ],
   "outputs": [
    {
     "output_type": "execute_result",
     "data": {
      "text/plain": [
       "array([[4.24117296, 1.929209  , 2.45370291, ..., 0.        , 0.        ,\n",
       "        0.        ],\n",
       "       [3.39293837, 0.        , 0.        , ..., 0.        , 0.        ,\n",
       "        0.        ],\n",
       "       [0.        , 0.        , 0.        , ..., 0.        , 0.        ,\n",
       "        0.        ],\n",
       "       ...,\n",
       "       [4.24117296, 0.        , 0.        , ..., 0.        , 0.        ,\n",
       "        0.        ],\n",
       "       [0.        , 0.        , 0.        , ..., 0.        , 0.        ,\n",
       "        0.        ],\n",
       "       [0.        , 3.21534834, 0.        , ..., 0.        , 0.        ,\n",
       "        0.        ]])"
      ]
     },
     "metadata": {},
     "execution_count": 44
    }
   ],
   "metadata": {
    "ExecuteTime": {
     "end_time": "2020-10-02T19:41:52.579448Z",
     "start_time": "2020-10-02T19:41:52.575459Z"
    }
   }
  },
  {
   "cell_type": "code",
   "execution_count": 50,
   "source": [
    "decay_damped"
   ],
   "outputs": [
    {
     "output_type": "execute_result",
     "data": {
      "text/plain": [
       "array([[4.24117296, 1.929209  , 2.45370291, ..., 2.66362531, 2.66362531,\n",
       "        2.66362531],\n",
       "       [3.39293837, 2.66362531, 2.66362531, ..., 2.66362531, 2.66362531,\n",
       "        2.66362531],\n",
       "       [2.66362531, 2.66362531, 2.66362531, ..., 2.66362531, 2.66362531,\n",
       "        2.66362531],\n",
       "       ...,\n",
       "       [4.24117296, 2.66362531, 2.66362531, ..., 2.66362531, 2.66362531,\n",
       "        2.66362531],\n",
       "       [2.66362531, 2.66362531, 2.66362531, ..., 2.66362531, 2.66362531,\n",
       "        2.66362531],\n",
       "       [2.66362531, 3.21534834, 2.66362531, ..., 2.66362531, 2.66362531,\n",
       "        2.66362531]])"
      ]
     },
     "metadata": {},
     "execution_count": 50
    }
   ],
   "metadata": {
    "ExecuteTime": {
     "end_time": "2020-10-02T19:41:52.585431Z",
     "start_time": "2020-10-02T19:41:52.581442Z"
    }
   }
  },
  {
   "cell_type": "code",
   "execution_count": 164,
   "source": [
    "best_decay_damped"
   ],
   "outputs": [
    {
     "output_type": "execute_result",
     "data": {
      "text/plain": [
       "4.99868543324212"
      ]
     },
     "metadata": {},
     "execution_count": 164
    }
   ],
   "metadata": {
    "ExecuteTime": {
     "end_time": "2020-10-02T19:41:52.591416Z",
     "start_time": "2020-10-02T19:41:52.587427Z"
    }
   }
  },
  {
   "cell_type": "code",
   "execution_count": 51,
   "source": [
    "id_best_decay_damped"
   ],
   "outputs": [
    {
     "output_type": "execute_result",
     "data": {
      "text/plain": [
       "173"
      ]
     },
     "metadata": {},
     "execution_count": 51
    }
   ],
   "metadata": {
    "ExecuteTime": {
     "end_time": "2020-10-02T19:41:52.597400Z",
     "start_time": "2020-10-02T19:41:52.593411Z"
    }
   }
  }
 ],
 "metadata": {
  "hide_input": false,
  "kernelspec": {
   "display_name": "Python 3",
   "language": "python",
   "name": "python3"
  },
  "language_info": {
   "codemirror_mode": {
    "name": "ipython",
    "version": 3
   },
   "file_extension": ".py",
   "mimetype": "text/x-python",
   "name": "python",
   "nbconvert_exporter": "python",
   "pygments_lexer": "ipython3",
   "version": "3.7.6"
  },
  "toc": {
   "base_numbering": 1,
   "nav_menu": {},
   "number_sections": true,
   "sideBar": true,
   "skip_h1_title": true,
   "title_cell": "Tabla de Contenidos",
   "title_sidebar": "Contenidos",
   "toc_cell": false,
   "toc_position": {},
   "toc_section_display": true,
   "toc_window_display": true
  }
 },
 "nbformat": 4,
 "nbformat_minor": 2
}