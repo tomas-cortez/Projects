{
 "cells": [
  {
   "cell_type": "markdown",
   "metadata": {},
   "source": [
    "# Trabajo Practico"
   ]
  },
  {
   "cell_type": "code",
   "execution_count": 10,
   "metadata": {},
   "outputs": [
    {
     "name": "stdout",
     "output_type": "stream",
     "text": [
      "INGRESE EL CODIGO DEL ARTICULO: A102270075\n",
      "=================\n",
      "Año\tVentas\n",
      "2004\t69\n",
      "2005\t8\n",
      "2006\t53\n",
      "2007\t83\n",
      "2008\t28\n",
      "\n",
      "=================\n",
      "ESTIMADO 2009: 46\n"
     ]
    }
   ],
   "source": [
    "import pyodbc\n",
    "import pandas as pd \n",
    "from funpymodeling.data_prep import todf\n",
    "from sklearn.linear_model import LinearRegression\n",
    "import numpy as np\n",
    "#INTEGRANTES: MORALES LUCAS - CORTEZ TOMAS\n",
    "\"\"\"-------------------------------------------------------------------------\"\"\"\n",
    "server = 'DESKTOP-V38GL8V\\SQLEXPRESS'\n",
    "database = 'Ventas2' \n",
    "username = 'sa' \n",
    "password = 'admin' \n",
    "cnxn = pyodbc.connect('DRIVER={ODBC Driver 17 for SQL Server};SERVER='+server+';DATABASE='+database+';UID='+username+';PWD='+ password)\n",
    "cursor = cnxn.cursor()\n",
    "\n",
    "cursor.execute('SELECT * FROM estimaciones;')\n",
    "\n",
    "estimaciones = cursor.fetchall()\n",
    "df=todf(estimaciones)\n",
    "df=pd.DataFrame(df)\n",
    "df.rename(columns={0:'Articulo',1:'Año',2:'Ventas'},inplace=True)\n",
    "cursor.close()\n",
    "cnxn.close()\n",
    "\"\"\" ----------------------------------------------------------------------------\"\"\"\n",
    "x=df[['Año']]\n",
    "y=df[['Ventas']]\n",
    "nuevo_x = np.array([2009]) \n",
    "regresion_lineal = LinearRegression()\n",
    "regresion_lineal.fit(x,y)\n",
    "prediccion = regresion_lineal.predict(nuevo_x.reshape(-1,1))\n",
    "\"\"\"------------------------------------------------------------------------------\"\"\"\n",
    "\n",
    "articulo = input(\"INGRESE EL CODIGO DEL ARTICULO: \")\n",
    "\n",
    "if articulo == 'A102270075':\n",
    "    print(\"=================\")\n",
    "    print(df.to_csv(columns=['Año', 'Ventas'],sep='\\t', index=False))\n",
    "    print(\"=================\")\n",
    "    print(\"ESTIMADO 2009:\",int(prediccion))\n",
    "\n",
    "else: print('Codigo Incorrecto, reinicie el programa')"
   ]
  },
  {
   "cell_type": "code",
   "execution_count": null,
   "metadata": {},
   "outputs": [],
   "source": []
  }
 ],
 "metadata": {
  "kernelspec": {
   "display_name": "Python 3",
   "language": "python",
   "name": "python3"
  },
  "language_info": {
   "codemirror_mode": {
    "name": "ipython",
    "version": 3
   },
   "file_extension": ".py",
   "mimetype": "text/x-python",
   "name": "python",
   "nbconvert_exporter": "python",
   "pygments_lexer": "ipython3",
   "version": "3.8.5"
  }
 },
 "nbformat": 4,
 "nbformat_minor": 4
}
