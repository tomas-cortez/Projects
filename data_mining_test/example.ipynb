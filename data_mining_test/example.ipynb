{
 "cells": [
  {
   "cell_type": "markdown",
   "id": "2ac7a3bc",
   "metadata": {},
   "source": [
    "# Examen:"
   ]
  },
  {
   "cell_type": "code",
   "execution_count": 160,
   "id": "896e16e7",
   "metadata": {},
   "outputs": [],
   "source": [
    "import requests\n",
    "from bs4 import BeautifulSoup\n",
    "import pandas as pd\n",
    "import json\n",
    "import re"
   ]
  },
  {
   "cell_type": "markdown",
   "id": "78816ea9",
   "metadata": {},
   "source": [
    "# CONSUMIR JSON API "
   ]
  },
  {
   "cell_type": "code",
   "execution_count": 98,
   "id": "a32b394f",
   "metadata": {},
   "outputs": [],
   "source": [
    "url_ml_pais = \"https://api.mercadolibre.com/classified_locations/countries/\"\n",
    "url_ml_moneda = \"https://api.mercadolibre.com/currencies/\"\n",
    "\n",
    "pais= requests.request(\"GET\",url_ml_pais)\n",
    "moneda= requests.request(\"GET\",url_ml_moneda)\n",
    "                                 \n",
    "soup_pais= BeautifulSoup(pais.text, 'html.parser')\n",
    "soup_moneda=BeautifulSoup(moneda.text, 'html.parser')\n",
    "cero = 0"
   ]
  },
  {
   "cell_type": "markdown",
   "id": "8c378720",
   "metadata": {},
   "source": [
    "# Pais"
   ]
  },
  {
   "cell_type": "code",
   "execution_count": 35,
   "id": "cfe34c95",
   "metadata": {},
   "outputs": [
    {
     "data": {
      "text/plain": [
       "[{\"id\":\"AR\",\"name\":\"Argentina\",\"locale\":\"es_AR\",\"currency_id\":\"ARS\"},{\"id\":\"BO\",\"name\":\"Bolivia\",\"locale\":\"es_BO\",\"currency_id\":\"BOB\"},{\"id\":\"BR\",\"name\":\"Brasil\",\"locale\":\"pt_BR\",\"currency_id\":\"BRL\"},{\"id\":\"CL\",\"name\":\"Chile\",\"locale\":\"es_CL\",\"currency_id\":\"CLP\"},{\"id\":\"CN\",\"name\":\"China\",\"locale\":\"zh_CN\",\"currency_id\":\"CNY\"},{\"id\":\"CO\",\"name\":\"Colombia\",\"locale\":\"es_CO\",\"currency_id\":\"COP\"},{\"id\":\"CR\",\"name\":\"Costa Rica\",\"locale\":\"es_CR\",\"currency_id\":\"CRC\"},{\"id\":\"CBT\",\"name\":\"Cross Border Trade\",\"locale\":\"es_AR\",\"currency_id\":\"ARS\"},{\"id\":\"EC\",\"name\":\"Ecuador\",\"locale\":\"es_EC\",\"currency_id\":\"USD\"},{\"id\":\"SV\",\"name\":\"El Salvador\",\"locale\":\"es_SV\",\"currency_id\":\"USD\"},{\"id\":\"GT\",\"name\":\"Guatemala\",\"locale\":\"es_GT\",\"currency_id\":\"GTQ\"},{\"id\":\"HN\",\"name\":\"Honduras\",\"locale\":\"es_HN\",\"currency_id\":\"HNL\"},{\"id\":\"MX\",\"name\":\"Mexico\",\"locale\":\"es_MX\",\"currency_id\":\"MXN\"},{\"id\":\"NI\",\"name\":\"Nicaragua\",\"locale\":\"es_NI\",\"currency_id\":\"NIO\"},{\"id\":\"PA\",\"name\":\"Panamá\",\"locale\":\"es_PA\",\"currency_id\":\"USD\"},{\"id\":\"PY\",\"name\":\"Paraguay\",\"locale\":\"es_PY\",\"currency_id\":\"PYG\"},{\"id\":\"PE\",\"name\":\"Peru\",\"locale\":\"es_PE\",\"currency_id\":\"PEN\"},{\"id\":\"PT\",\"name\":\"Portugal\",\"locale\":\"pt_PT\",\"currency_id\":\"EUR\"},{\"id\":\"PR\",\"name\":\"Puerto Rico\",\"locale\":\"es_PR\",\"currency_id\":\"USD\"},{\"id\":\"GB\",\"name\":\"Reino Unido\",\"locale\":\"en_GB\",\"currency_id\":\"GBP\"},{\"id\":\"DO\",\"name\":\"República Dominicana\",\"locale\":\"es_DO\",\"currency_id\":\"DOP\"},{\"id\":\"UY\",\"name\":\"Uruguay\",\"locale\":\"es_UY\",\"currency_id\":\"UYU\"},{\"id\":\"VE\",\"name\":\"Venezuela\",\"locale\":\"es_VE\",\"currency_id\":\"VES\"},{\"id\":\"COL\",\"name\":\"newCOL\",\"locale\":\"es_COL\",\"currency_id\":\"COLS\"}]"
      ]
     },
     "execution_count": 35,
     "metadata": {},
     "output_type": "execute_result"
    }
   ],
   "source": [
    "soup_pais"
   ]
  },
  {
   "cell_type": "code",
   "execution_count": 40,
   "id": "8fa8a4b3",
   "metadata": {},
   "outputs": [
    {
     "name": "stdout",
     "output_type": "stream",
     "text": [
      "ID: AR - NOMBRE_PAIS: Argentina \n",
      "ID: BO - NOMBRE_PAIS: Bolivia \n",
      "ID: BR - NOMBRE_PAIS: Brasil \n",
      "ID: CL - NOMBRE_PAIS: Chile \n",
      "ID: CN - NOMBRE_PAIS: China \n",
      "ID: CO - NOMBRE_PAIS: Colombia \n",
      "ID: CR - NOMBRE_PAIS: Costa Rica \n",
      "ID: CBT - NOMBRE_PAIS: Cross Border Trade \n",
      "ID: EC - NOMBRE_PAIS: Ecuador \n",
      "ID: SV - NOMBRE_PAIS: El Salvador \n",
      "ID: GT - NOMBRE_PAIS: Guatemala \n",
      "ID: HN - NOMBRE_PAIS: Honduras \n",
      "ID: MX - NOMBRE_PAIS: Mexico \n",
      "ID: NI - NOMBRE_PAIS: Nicaragua \n",
      "ID: PA - NOMBRE_PAIS: Panamá \n",
      "ID: PY - NOMBRE_PAIS: Paraguay \n",
      "ID: PE - NOMBRE_PAIS: Peru \n",
      "ID: PT - NOMBRE_PAIS: Portugal \n",
      "ID: PR - NOMBRE_PAIS: Puerto Rico \n",
      "ID: GB - NOMBRE_PAIS: Reino Unido \n",
      "ID: DO - NOMBRE_PAIS: República Dominicana \n",
      "ID: UY - NOMBRE_PAIS: Uruguay \n",
      "ID: VE - NOMBRE_PAIS: Venezuela \n",
      "ID: COL - NOMBRE_PAIS: newCOL \n"
     ]
    }
   ],
   "source": [
    "dicc_ml_pais=json.loads(soup_pais.text)\n",
    "for a in dicc_ml_pais:\n",
    "    try: print('ID: {} - NOMBRE_PAIS: {} '.format(a['id'], a['name']))  \n",
    "    except: print('ERROR DE PETICION')"
   ]
  },
  {
   "cell_type": "markdown",
   "id": "e2afe7b4",
   "metadata": {},
   "source": [
    "# Moneda"
   ]
  },
  {
   "cell_type": "code",
   "execution_count": 37,
   "id": "8ae45198",
   "metadata": {},
   "outputs": [
    {
     "data": {
      "text/plain": [
       "[{\"id\":\"ARS\",\"symbol\":\"$\",\"description\":\"Peso argentino\",\"decimal_places\":2},{\"id\":\"BOB\",\"symbol\":\"Bs\",\"description\":\"Boliviano\",\"decimal_places\":2},{\"id\":\"BRL\",\"symbol\":\"R$\",\"description\":\"Real\",\"decimal_places\":2},{\"id\":\"CLF\",\"symbol\":\"UF\",\"description\":\"Unidad de Fomento\",\"decimal_places\":2},{\"id\":\"CLP\",\"symbol\":\"$\",\"description\":\"Peso Chileno\",\"decimal_places\":0},{\"id\":\"COP\",\"symbol\":\"$\",\"description\":\"Peso colombiano\",\"decimal_places\":0},{\"id\":\"CRC\",\"symbol\":\"¢\",\"description\":\"Colones\",\"decimal_places\":2},{\"id\":\"CUC\",\"symbol\":\"CUC\",\"description\":\"Peso Cubano Convertible\",\"decimal_places\":2},{\"id\":\"CUP\",\"symbol\":\"$\",\"description\":\"Peso Cubano\",\"decimal_places\":2},{\"id\":\"DOP\",\"symbol\":\"$\",\"description\":\"Peso Dominicano\",\"decimal_places\":2},{\"id\":\"EUR\",\"symbol\":\"€\",\"description\":\"Euro\",\"decimal_places\":2},{\"id\":\"GTQ\",\"symbol\":\"Q\",\"description\":\"Quetzal Guatemalteco\",\"decimal_places\":2},{\"id\":\"HNL\",\"symbol\":\"L\",\"description\":\"Lempira\",\"decimal_places\":0},{\"id\":\"MXN\",\"symbol\":\"$\",\"description\":\"Peso Mexicano\",\"decimal_places\":2},{\"id\":\"NIO\",\"symbol\":\"C$\",\"description\":\"Córdoba\",\"decimal_places\":0},{\"id\":\"PAB\",\"symbol\":\"B/.\",\"description\":\"Balboa\",\"decimal_places\":2},{\"id\":\"PEN\",\"symbol\":\"S/\",\"description\":\"Soles\",\"decimal_places\":2},{\"id\":\"PYG\",\"symbol\":\"₲\",\"description\":\"Guaraní\",\"decimal_places\":0},{\"id\":\"USD\",\"symbol\":\"U$S\",\"description\":\"Dólar\",\"decimal_places\":2},{\"id\":\"UYU\",\"symbol\":\"$\",\"description\":\"Peso Uruguayo\",\"decimal_places\":2},{\"id\":\"VEF\",\"symbol\":\"Bs.\",\"description\":\"Bolivar fuerte\",\"decimal_places\":2},{\"id\":\"VES\",\"symbol\":\"Bs.\",\"description\":\"Bolivar Soberano\",\"decimal_places\":2}]"
      ]
     },
     "execution_count": 37,
     "metadata": {},
     "output_type": "execute_result"
    }
   ],
   "source": [
    "soup_moneda"
   ]
  },
  {
   "cell_type": "code",
   "execution_count": 41,
   "id": "51476cef",
   "metadata": {},
   "outputs": [
    {
     "name": "stdout",
     "output_type": "stream",
     "text": [
      "ID: ARS - Moneda: Peso argentino - Symbol: $\n",
      "ID: BOB - Moneda: Boliviano - Symbol: Bs\n",
      "ID: BRL - Moneda: Real - Symbol: R$\n",
      "ID: CLF - Moneda: Unidad de Fomento - Symbol: UF\n",
      "ID: CLP - Moneda: Peso Chileno - Symbol: $\n",
      "ID: COP - Moneda: Peso colombiano - Symbol: $\n",
      "ID: CRC - Moneda: Colones - Symbol: ¢\n",
      "ID: CUC - Moneda: Peso Cubano Convertible - Symbol: CUC\n",
      "ID: CUP - Moneda: Peso Cubano - Symbol: $\n",
      "ID: DOP - Moneda: Peso Dominicano - Symbol: $\n",
      "ID: EUR - Moneda: Euro - Symbol: €\n",
      "ID: GTQ - Moneda: Quetzal Guatemalteco - Symbol: Q\n",
      "ID: HNL - Moneda: Lempira - Symbol: L\n",
      "ID: MXN - Moneda: Peso Mexicano - Symbol: $\n",
      "ID: NIO - Moneda: Córdoba - Symbol: C$\n",
      "ID: PAB - Moneda: Balboa - Symbol: B/.\n",
      "ID: PEN - Moneda: Soles - Symbol: S/\n",
      "ID: PYG - Moneda: Guaraní - Symbol: ₲\n",
      "ID: USD - Moneda: Dólar - Symbol: U$S\n",
      "ID: UYU - Moneda: Peso Uruguayo - Symbol: $\n",
      "ID: VEF - Moneda: Bolivar fuerte - Symbol: Bs.\n",
      "ID: VES - Moneda: Bolivar Soberano - Symbol: Bs.\n"
     ]
    }
   ],
   "source": [
    "dicc_ml_moneda=json.loads(soup_moneda.text)\n",
    "for b in dicc_ml_moneda:\n",
    "    try: print('ID: {} - Moneda: {} - Symbol: {}'.format(b['id'], b['description'], b['symbol']))   \n",
    "    except: print('ERROR DE PETICION')  "
   ]
  },
  {
   "cell_type": "markdown",
   "id": "e1393944",
   "metadata": {},
   "source": [
    "# WEB SCRAPING PAGINA WEB"
   ]
  },
  {
   "cell_type": "code",
   "execution_count": 172,
   "id": "a53aed2f",
   "metadata": {},
   "outputs": [],
   "source": [
    "miguelcarrizo = \"https://miguelcarrizo-ies21.github.io/citas-scraping/\"\n",
    "mc = requests.get(miguelcarrizo)\n",
    "soup = BeautifulSoup(mc.content, \"html.parser\")\n",
    "citas_ = soup.find_all('q')\n",
    "citas = list()\n",
    "for cita in citas_:\n",
    "    if cero <= 22:\n",
    "        citas.append(cita.text)\n",
    "    else:break\n",
    "    cero + 1  "
   ]
  },
  {
   "cell_type": "code",
   "execution_count": 110,
   "id": "fd65be9b",
   "metadata": {},
   "outputs": [],
   "source": [
    "categoria_ = soup.find_all('p', {\"class\":\"categoria\"})\n",
    "categoria = list()\n",
    "for cat in categoria_:\n",
    "    if cero <= 22:\n",
    "        categoria.append(cat.text)\n",
    "    else:break\n",
    "    cero + 1    "
   ]
  },
  {
   "cell_type": "code",
   "execution_count": 170,
   "id": "0a8ac69f",
   "metadata": {},
   "outputs": [],
   "source": [
    "autor_ = soup.find_all('p', {\"class\":\"autor\"})\n",
    "autor = list()\n",
    "for aut in autor_:\n",
    "    if cero <= 22:\n",
    "        autor.append(aut.text)\n",
    "    else:break\n",
    "    cero + 1   "
   ]
  },
  {
   "cell_type": "markdown",
   "id": "85bdeee4",
   "metadata": {},
   "source": [
    "# Dataframe de CITAS"
   ]
  },
  {
   "cell_type": "code",
   "execution_count": 167,
   "id": "3de09e01",
   "metadata": {},
   "outputs": [
    {
     "data": {
      "text/html": [
       "<div>\n",
       "<style scoped>\n",
       "    .dataframe tbody tr th:only-of-type {\n",
       "        vertical-align: middle;\n",
       "    }\n",
       "\n",
       "    .dataframe tbody tr th {\n",
       "        vertical-align: top;\n",
       "    }\n",
       "\n",
       "    .dataframe thead th {\n",
       "        text-align: right;\n",
       "    }\n",
       "</style>\n",
       "<table border=\"1\" class=\"dataframe\">\n",
       "  <thead>\n",
       "    <tr style=\"text-align: right;\">\n",
       "      <th></th>\n",
       "      <th>Citas</th>\n",
       "      <th>Categoria</th>\n",
       "      <th>Autor</th>\n",
       "    </tr>\n",
       "  </thead>\n",
       "  <tbody>\n",
       "    <tr>\n",
       "      <th>0</th>\n",
       "      <td>La felicidad es un artículo maravilloso: cuant...</td>\n",
       "      <td>Sentimientos</td>\n",
       "      <td>Blaise Pascal</td>\n",
       "    </tr>\n",
       "    <tr>\n",
       "      <th>1</th>\n",
       "      <td>El corazón tiene razones que la razón ignora.</td>\n",
       "      <td>Sentimientos</td>\n",
       "      <td>Blaise Pascal</td>\n",
       "    </tr>\n",
       "    <tr>\n",
       "      <th>2</th>\n",
       "      <td>Prefiero equivocarme creyendo en un Dios que n...</td>\n",
       "      <td>Sociedad</td>\n",
       "      <td>Blaise Pascal</td>\n",
       "    </tr>\n",
       "    <tr>\n",
       "      <th>3</th>\n",
       "      <td>Sólo hay dos clases de personas coherentes: lo...</td>\n",
       "      <td>Sentimientos</td>\n",
       "      <td>Blaise Pascal</td>\n",
       "    </tr>\n",
       "    <tr>\n",
       "      <th>4</th>\n",
       "      <td>Si no actúas como piensas, vas a terminar pens...</td>\n",
       "      <td>Pensamiento y razón</td>\n",
       "      <td>Blaise Pascal</td>\n",
       "    </tr>\n",
       "    <tr>\n",
       "      <th>5</th>\n",
       "      <td>Estando siempre dispuestos a ser felices, es i...</td>\n",
       "      <td>Sentimientos</td>\n",
       "      <td>Blaise Pascal</td>\n",
       "    </tr>\n",
       "    <tr>\n",
       "      <th>6</th>\n",
       "      <td>Nuestra imaginación nos agranda tanto el tiemp...</td>\n",
       "      <td>Pensamiento y razón</td>\n",
       "      <td>Blaise Pascal</td>\n",
       "    </tr>\n",
       "    <tr>\n",
       "      <th>7</th>\n",
       "      <td>¿De qué le sirve al hombre ganar el mundo si p...</td>\n",
       "      <td>Pensamiento y razón</td>\n",
       "      <td>Blaise Pascal</td>\n",
       "    </tr>\n",
       "    <tr>\n",
       "      <th>8</th>\n",
       "      <td>Cuando no se ama demasiado no se ama lo sufici...</td>\n",
       "      <td>Sentimientos</td>\n",
       "      <td>Blaise Pascal</td>\n",
       "    </tr>\n",
       "    <tr>\n",
       "      <th>9</th>\n",
       "      <td>Las cuerdas que amarran el respeto de unos por...</td>\n",
       "      <td>Miscelánea</td>\n",
       "      <td>Blaise Pascal</td>\n",
       "    </tr>\n",
       "    <tr>\n",
       "      <th>10</th>\n",
       "      <td>No vivimos nunca, sino que esperamos vivir; y ...</td>\n",
       "      <td>Sentimientos</td>\n",
       "      <td>Blaise Pascal</td>\n",
       "    </tr>\n",
       "    <tr>\n",
       "      <th>11</th>\n",
       "      <td>El hombre está dispuesto siempre a negar todo ...</td>\n",
       "      <td>Cualidades</td>\n",
       "      <td>Blaise Pascal</td>\n",
       "    </tr>\n",
       "    <tr>\n",
       "      <th>12</th>\n",
       "      <td>Por muchas riquezas que el hombre posea y por ...</td>\n",
       "      <td>Sentimientos</td>\n",
       "      <td>Blaise Pascal</td>\n",
       "    </tr>\n",
       "    <tr>\n",
       "      <th>13</th>\n",
       "      <td>La desgracia descubre al alma luces que la pro...</td>\n",
       "      <td>Miscelánea</td>\n",
       "      <td>Blaise Pascal</td>\n",
       "    </tr>\n",
       "    <tr>\n",
       "      <th>14</th>\n",
       "      <td>Sólo conviene la mediocridad. Esto lo ha estab...</td>\n",
       "      <td>Defectos</td>\n",
       "      <td>Blaise Pascal</td>\n",
       "    </tr>\n",
       "    <tr>\n",
       "      <th>15</th>\n",
       "      <td>Sólo conozco dos tipos de personas razonables:...</td>\n",
       "      <td>Sociedad</td>\n",
       "      <td>Blaise Pascal</td>\n",
       "    </tr>\n",
       "    <tr>\n",
       "      <th>16</th>\n",
       "      <td>La conciencia es el mejor libro moral que tene...</td>\n",
       "      <td>Cualidades</td>\n",
       "      <td>Blaise Pascal</td>\n",
       "    </tr>\n",
       "    <tr>\n",
       "      <th>17</th>\n",
       "      <td>La grandeza de un hombre está en saber reconoc...</td>\n",
       "      <td>Cualidades</td>\n",
       "      <td>Blaise Pascal</td>\n",
       "    </tr>\n",
       "    <tr>\n",
       "      <th>18</th>\n",
       "      <td>La justicia sobre la fuerza, es la impotencia,...</td>\n",
       "      <td>Sociedad</td>\n",
       "      <td>Blaise Pascal</td>\n",
       "    </tr>\n",
       "    <tr>\n",
       "      <th>19</th>\n",
       "      <td>El hombre tiene ilusiones como el pájaro alas....</td>\n",
       "      <td>Pensamiento y razón</td>\n",
       "      <td>Blaise Pascal</td>\n",
       "    </tr>\n",
       "    <tr>\n",
       "      <th>20</th>\n",
       "      <td>La razón obra con lentitud, y con tantas miras...</td>\n",
       "      <td>Pensamiento y razón</td>\n",
       "      <td>Blaise Pascal</td>\n",
       "    </tr>\n",
       "    <tr>\n",
       "      <th>21</th>\n",
       "      <td>Vale más saber alguna cosa de todo, que saberl...</td>\n",
       "      <td>Cualidades</td>\n",
       "      <td>Blaise Pascal</td>\n",
       "    </tr>\n",
       "    <tr>\n",
       "      <th>22</th>\n",
       "      <td>Aquel que duda y no investiga, se torna no sól...</td>\n",
       "      <td>Pensamiento y razón</td>\n",
       "      <td>Blaise Pascal</td>\n",
       "    </tr>\n",
       "  </tbody>\n",
       "</table>\n",
       "</div>"
      ],
      "text/plain": [
       "                                                Citas            Categoria  \\\n",
       "0   La felicidad es un artículo maravilloso: cuant...         Sentimientos   \n",
       "1       El corazón tiene razones que la razón ignora.         Sentimientos   \n",
       "2   Prefiero equivocarme creyendo en un Dios que n...             Sociedad   \n",
       "3   Sólo hay dos clases de personas coherentes: lo...         Sentimientos   \n",
       "4   Si no actúas como piensas, vas a terminar pens...  Pensamiento y razón   \n",
       "5   Estando siempre dispuestos a ser felices, es i...         Sentimientos   \n",
       "6   Nuestra imaginación nos agranda tanto el tiemp...  Pensamiento y razón   \n",
       "7   ¿De qué le sirve al hombre ganar el mundo si p...  Pensamiento y razón   \n",
       "8   Cuando no se ama demasiado no se ama lo sufici...         Sentimientos   \n",
       "9   Las cuerdas que amarran el respeto de unos por...           Miscelánea   \n",
       "10  No vivimos nunca, sino que esperamos vivir; y ...         Sentimientos   \n",
       "11  El hombre está dispuesto siempre a negar todo ...           Cualidades   \n",
       "12  Por muchas riquezas que el hombre posea y por ...         Sentimientos   \n",
       "13  La desgracia descubre al alma luces que la pro...           Miscelánea   \n",
       "14  Sólo conviene la mediocridad. Esto lo ha estab...             Defectos   \n",
       "15  Sólo conozco dos tipos de personas razonables:...             Sociedad   \n",
       "16  La conciencia es el mejor libro moral que tene...           Cualidades   \n",
       "17  La grandeza de un hombre está en saber reconoc...           Cualidades   \n",
       "18  La justicia sobre la fuerza, es la impotencia,...             Sociedad   \n",
       "19  El hombre tiene ilusiones como el pájaro alas....  Pensamiento y razón   \n",
       "20  La razón obra con lentitud, y con tantas miras...  Pensamiento y razón   \n",
       "21  Vale más saber alguna cosa de todo, que saberl...           Cualidades   \n",
       "22  Aquel que duda y no investiga, se torna no sól...  Pensamiento y razón   \n",
       "\n",
       "            Autor  \n",
       "0   Blaise Pascal  \n",
       "1   Blaise Pascal  \n",
       "2   Blaise Pascal  \n",
       "3   Blaise Pascal  \n",
       "4   Blaise Pascal  \n",
       "5   Blaise Pascal  \n",
       "6   Blaise Pascal  \n",
       "7   Blaise Pascal  \n",
       "8   Blaise Pascal  \n",
       "9   Blaise Pascal  \n",
       "10  Blaise Pascal  \n",
       "11  Blaise Pascal  \n",
       "12  Blaise Pascal  \n",
       "13  Blaise Pascal  \n",
       "14  Blaise Pascal  \n",
       "15  Blaise Pascal  \n",
       "16  Blaise Pascal  \n",
       "17  Blaise Pascal  \n",
       "18  Blaise Pascal  \n",
       "19  Blaise Pascal  \n",
       "20  Blaise Pascal  \n",
       "21  Blaise Pascal  \n",
       "22  Blaise Pascal  "
      ]
     },
     "execution_count": 167,
     "metadata": {},
     "output_type": "execute_result"
    }
   ],
   "source": [
    "df1 = pd.DataFrame(citas,columns=[\"Citas\"])\n",
    "df2 = pd.DataFrame(categoria,columns=[\"Categoria\"])\n",
    "df3 = pd.DataFrame(autor,columns=[\"Autor\"])\n",
    "CITAS = pd.concat([df1, df2, df3], axis=1)\n",
    "CITAS"
   ]
  },
  {
   "cell_type": "markdown",
   "id": "900c2508",
   "metadata": {},
   "source": [
    "## Exportacion a CSV"
   ]
  },
  {
   "cell_type": "code",
   "execution_count": 168,
   "id": "a192c855",
   "metadata": {},
   "outputs": [],
   "source": [
    "CITAS.to_csv(\"data/frases.csv\",index=False)"
   ]
  },
  {
   "cell_type": "markdown",
   "id": "8ac84bdb",
   "metadata": {},
   "source": [
    "# EXPRESIONES REGULARES"
   ]
  },
  {
   "cell_type": "markdown",
   "id": "94bab82e",
   "metadata": {},
   "source": [
    "## Archivo 1"
   ]
  },
  {
   "cell_type": "code",
   "execution_count": 162,
   "id": "8bb437ca",
   "metadata": {},
   "outputs": [
    {
     "data": {
      "text/plain": [
       "['20-45332211-6 PEREZ RICARDO\\n',\n",
       " '21.15428225.5 BALCARCE DANIELA\\n',\n",
       " '20-55878711-3 FERNANDEZ GEORGINA\\n',\n",
       " ' 4-47633882-2 GONZALEZ MANUEL\\n',\n",
       " '21-12233444-9 PAEZ LORENZO\\n',\n",
       " '20.99364736.0 MERCADO LUIS\\n',\n",
       " '21- 9811333-2 RAMIREZ LETICIA\\n',\n",
       " '21-99834938-2 LOPEZ PATRICIA\\n',\n",
       " '23-23671112-A LOPEZ PATRICIA\\n']"
      ]
     },
     "execution_count": 162,
     "metadata": {},
     "output_type": "execute_result"
    }
   ],
   "source": [
    "txt = open('data/datos1.txt','r')\n",
    "lineas = txt.readlines()\n",
    "lineas"
   ]
  },
  {
   "cell_type": "code",
   "execution_count": 191,
   "id": "2ce868a4",
   "metadata": {},
   "outputs": [
    {
     "name": "stdout",
     "output_type": "stream",
     "text": [
      " 4-47633882-2 GONZALEZ MANUEL\n",
      "\n",
      "21- 9811333-2 RAMIREZ LETICIA\n",
      "\n",
      "23-23671112-A LOPEZ PATRICIA\n",
      "\n"
     ]
    }
   ],
   "source": [
    "exp1 = \"[0-9][0-9](-|.)[0-9]{8}(-|.)[0-9]\" \n",
    "for a1 in lineas:\n",
    "    b1 = re.findall(exp1,a1)\n",
    "    if b1: b1\n",
    "    else: print(a1)"
   ]
  },
  {
   "cell_type": "markdown",
   "id": "935316a8",
   "metadata": {},
   "source": [
    "## Archivo 2"
   ]
  },
  {
   "cell_type": "code",
   "execution_count": 177,
   "id": "364c4620",
   "metadata": {},
   "outputs": [
    {
     "data": {
      "text/plain": [
       "['UN MELOCOTON QUE ES\\n',\n",
       " 'LA PALABRA MULO NO EXISTE\\n',\n",
       " 'EL ES MALO\\n',\n",
       " 'MILO ES EL NOMBRE DE UN PINTOR\\n',\n",
       " 'QUE SIGNIFICA MOLO\\n',\n",
       " 'ES UN REMOLON\\n',\n",
       " 'SON RICOS LOS CARAMELOS\\n']"
      ]
     },
     "execution_count": 177,
     "metadata": {},
     "output_type": "execute_result"
    }
   ],
   "source": [
    "txt2 = open('data/datos2.txt','r')\n",
    "lineas2 = txt2.readlines()\n",
    "lineas2"
   ]
  },
  {
   "cell_type": "code",
   "execution_count": 178,
   "id": "4967b0c0",
   "metadata": {},
   "outputs": [
    {
     "name": "stdout",
     "output_type": "stream",
     "text": [
      "UN MELOCOTON QUE ES\n",
      "\n",
      "EL ES MALO\n",
      "\n",
      "MILO ES EL NOMBRE DE UN PINTOR\n",
      "\n",
      "SON RICOS LOS CARAMELOS\n",
      "\n"
     ]
    }
   ],
   "source": [
    "exp2 = \"M(A|E|I)LO\"\n",
    "for a in lineas2:\n",
    "    b = re.findall(exp2,a)\n",
    "    if b: print(a)"
   ]
  }
 ],
 "metadata": {
  "kernelspec": {
   "display_name": "Python 3",
   "language": "python",
   "name": "python3"
  },
  "language_info": {
   "codemirror_mode": {
    "name": "ipython",
    "version": 3
   },
   "file_extension": ".py",
   "mimetype": "text/x-python",
   "name": "python",
   "nbconvert_exporter": "python",
   "pygments_lexer": "ipython3",
   "version": "3.8.8"
  }
 },
 "nbformat": 4,
 "nbformat_minor": 5
}
