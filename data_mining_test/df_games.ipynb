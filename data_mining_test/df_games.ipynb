{
 "cells": [
  {
   "cell_type": "markdown",
   "source": [
    "# Módulo necesarios"
   ],
   "metadata": {}
  },
  {
   "cell_type": "code",
   "execution_count": 3,
   "source": [
    "import json\r\n",
    "import mysql.connector\r\n",
    "import pandas as pd\r\n",
    "import numpy as np\r\n",
    "from matplotlib import pyplot as plt"
   ],
   "outputs": [],
   "metadata": {}
  },
  {
   "cell_type": "markdown",
   "source": [
    "### Pasar archivo JSON a tabla MYSQL"
   ],
   "metadata": {}
  },
  {
   "cell_type": "code",
   "execution_count": 8,
   "source": [
    "mydb = mysql.connector.connect(\r\n",
    "    host='localhost',\r\n",
    "    user='root',\r\n",
    "    password='',\r\n",
    "    database='mineria_db'\r\n",
    ")"
   ],
   "outputs": [],
   "metadata": {}
  },
  {
   "cell_type": "code",
   "execution_count": 13,
   "source": [
    "df_json = pd.read_json('data/people.json')\r\n",
    "df_json"
   ],
   "outputs": [
    {
     "output_type": "execute_result",
     "data": {
      "text/html": [
       "<div>\n",
       "<style scoped>\n",
       "    .dataframe tbody tr th:only-of-type {\n",
       "        vertical-align: middle;\n",
       "    }\n",
       "\n",
       "    .dataframe tbody tr th {\n",
       "        vertical-align: top;\n",
       "    }\n",
       "\n",
       "    .dataframe thead th {\n",
       "        text-align: right;\n",
       "    }\n",
       "</style>\n",
       "<table border=\"1\" class=\"dataframe\">\n",
       "  <thead>\n",
       "    <tr style=\"text-align: right;\">\n",
       "      <th></th>\n",
       "      <th>id</th>\n",
       "      <th>full_name</th>\n",
       "      <th>email_address</th>\n",
       "      <th>country</th>\n",
       "      <th>gender</th>\n",
       "    </tr>\n",
       "  </thead>\n",
       "  <tbody>\n",
       "    <tr>\n",
       "      <th>0</th>\n",
       "      <td>1</td>\n",
       "      <td>Lynelle Rembrandt</td>\n",
       "      <td>lrembrandt0@sogou.com</td>\n",
       "      <td>Burkina Faso</td>\n",
       "      <td>F</td>\n",
       "    </tr>\n",
       "    <tr>\n",
       "      <th>1</th>\n",
       "      <td>2</td>\n",
       "      <td>Kerri Olenchenko</td>\n",
       "      <td>kolenchenko1@webmd.com</td>\n",
       "      <td>Philippines</td>\n",
       "      <td>F</td>\n",
       "    </tr>\n",
       "    <tr>\n",
       "      <th>2</th>\n",
       "      <td>3</td>\n",
       "      <td>Coriss Monaghan</td>\n",
       "      <td>cmonaghan2@businesswire.com</td>\n",
       "      <td>China</td>\n",
       "      <td>F</td>\n",
       "    </tr>\n",
       "    <tr>\n",
       "      <th>3</th>\n",
       "      <td>4</td>\n",
       "      <td>Kerry Feronet</td>\n",
       "      <td>kferonet3@people.com.cn</td>\n",
       "      <td>Russia</td>\n",
       "      <td>M</td>\n",
       "    </tr>\n",
       "    <tr>\n",
       "      <th>4</th>\n",
       "      <td>5</td>\n",
       "      <td>Wynny Lunny</td>\n",
       "      <td>wlunny4@statcounter.com</td>\n",
       "      <td>Mexico</td>\n",
       "      <td>F</td>\n",
       "    </tr>\n",
       "    <tr>\n",
       "      <th>...</th>\n",
       "      <td>...</td>\n",
       "      <td>...</td>\n",
       "      <td>...</td>\n",
       "      <td>...</td>\n",
       "      <td>...</td>\n",
       "    </tr>\n",
       "    <tr>\n",
       "      <th>95</th>\n",
       "      <td>96</td>\n",
       "      <td>Cooper Brenneke</td>\n",
       "      <td>cbrenneke2n@archive.org</td>\n",
       "      <td>Colombia</td>\n",
       "      <td>M</td>\n",
       "    </tr>\n",
       "    <tr>\n",
       "      <th>96</th>\n",
       "      <td>97</td>\n",
       "      <td>Gearard Budge</td>\n",
       "      <td>gbudge2o@dailymail.co.uk</td>\n",
       "      <td>Belarus</td>\n",
       "      <td>M</td>\n",
       "    </tr>\n",
       "    <tr>\n",
       "      <th>97</th>\n",
       "      <td>98</td>\n",
       "      <td>Dianne Immer</td>\n",
       "      <td>dimmer2p@buzzfeed.com</td>\n",
       "      <td>Philippines</td>\n",
       "      <td>F</td>\n",
       "    </tr>\n",
       "    <tr>\n",
       "      <th>98</th>\n",
       "      <td>99</td>\n",
       "      <td>Tanya Scranny</td>\n",
       "      <td>tscranny2q@mail.ru</td>\n",
       "      <td>China</td>\n",
       "      <td>F</td>\n",
       "    </tr>\n",
       "    <tr>\n",
       "      <th>99</th>\n",
       "      <td>100</td>\n",
       "      <td>Roddie Weller</td>\n",
       "      <td>rweller2r@netscape.com</td>\n",
       "      <td>Venezuela</td>\n",
       "      <td>M</td>\n",
       "    </tr>\n",
       "  </tbody>\n",
       "</table>\n",
       "<p>100 rows × 5 columns</p>\n",
       "</div>"
      ],
      "text/plain": [
       "     id          full_name                email_address       country gender\n",
       "0     1  Lynelle Rembrandt        lrembrandt0@sogou.com  Burkina Faso      F\n",
       "1     2   Kerri Olenchenko       kolenchenko1@webmd.com   Philippines      F\n",
       "2     3    Coriss Monaghan  cmonaghan2@businesswire.com         China      F\n",
       "3     4      Kerry Feronet      kferonet3@people.com.cn        Russia      M\n",
       "4     5        Wynny Lunny      wlunny4@statcounter.com        Mexico      F\n",
       "..  ...                ...                          ...           ...    ...\n",
       "95   96    Cooper Brenneke      cbrenneke2n@archive.org      Colombia      M\n",
       "96   97      Gearard Budge     gbudge2o@dailymail.co.uk       Belarus      M\n",
       "97   98       Dianne Immer        dimmer2p@buzzfeed.com   Philippines      F\n",
       "98   99      Tanya Scranny           tscranny2q@mail.ru         China      F\n",
       "99  100      Roddie Weller       rweller2r@netscape.com     Venezuela      M\n",
       "\n",
       "[100 rows x 5 columns]"
      ]
     },
     "metadata": {},
     "execution_count": 13
    }
   ],
   "metadata": {}
  },
  {
   "cell_type": "code",
   "execution_count": 101,
   "source": [
    "with open('data/people.json') as file:\r\n",
    "    j = json.load(file)"
   ],
   "outputs": [],
   "metadata": {}
  },
  {
   "cell_type": "code",
   "execution_count": 102,
   "source": [
    "mycursor = mydb.cursor()"
   ],
   "outputs": [],
   "metadata": {}
  },
  {
   "cell_type": "code",
   "execution_count": 103,
   "source": [
    "for item in j:\r\n",
    "    mycursor.execute(\"insert into people(id,full_name,email_address,country,gender) value(%s,%s,%s,%s,%s)\",\r\n",
    "                     (item[\"id\"], item[\"full_name\"], item[\"email_address\"],item[\"country\"],item[\"gender\"]))\r\n",
    "    mydb.commit()"
   ],
   "outputs": [],
   "metadata": {}
  },
  {
   "cell_type": "markdown",
   "source": [
    "### Limpieza de datos archivo CSV, generar archivo JSON y testeo archivo JSON"
   ],
   "metadata": {}
  },
  {
   "cell_type": "code",
   "execution_count": 116,
   "source": [
    "vgsales = pd.read_csv(\"data/vgsales.csv\")\r\n",
    "\r\n",
    "#Elimine todas las filas con valores nulos de la columna “Publisher”.\r\n",
    "vgsales = vgsales[vgsales['Publisher'].notna()]\r\n",
    "\r\n",
    "#Rellene con el valor cero todas las celdas de la columna “Year” que tengan valores nulos.\r\n",
    "vgsales = vgsales.fillna({'Year': 0})\r\n",
    "\r\n",
    "#Elimine las columnas “NA_Sales”, “EU_Sales”, “JP_Sales” y “Other_Sales”.\r\n",
    "vgsales = vgsales.drop(['NA_Sales', 'EU_Sales', 'JP_Sales', 'Other_Sales'], axis=1)\r\n",
    "\r\n",
    "#Exporte los datos del DataFrame resultante después de haber aplicado las operaciones anteriores\r\n",
    "#a un archivo en formato JSON llamado “vgsales.json”.\r\n",
    "vgsales_1=vgsales.to_json(\"data/vgsales.json\", orient = 'records') \r\n",
    "\r\n",
    "#En un nuevo DataFrame importe los datos del archivo JSON y muestre las columnas “Rank” y “Name” \r\n",
    "#de los primeros 10 y de los últimos 10 registros cuya columna “Platform” sea igual a “PS4”.\r\n",
    "vgsales_2=pd.read_json(\"data/vgsales.json\")\r\n",
    "ps4=vgsales_2[(vgsales_2.Platform =='PS4')] \r\n",
    "diez=pd.concat([(ps4.loc[:, ['Rank','Name','Platform']].head(10)), (ps4.loc[:, ['Rank','Name','Platform']].tail(10))])\r\n",
    "diez\r\n",
    "\r\n"
   ],
   "outputs": [
    {
     "output_type": "execute_result",
     "data": {
      "text/html": [
       "<div>\n",
       "<style scoped>\n",
       "    .dataframe tbody tr th:only-of-type {\n",
       "        vertical-align: middle;\n",
       "    }\n",
       "\n",
       "    .dataframe tbody tr th {\n",
       "        vertical-align: top;\n",
       "    }\n",
       "\n",
       "    .dataframe thead th {\n",
       "        text-align: right;\n",
       "    }\n",
       "</style>\n",
       "<table border=\"1\" class=\"dataframe\">\n",
       "  <thead>\n",
       "    <tr style=\"text-align: right;\">\n",
       "      <th></th>\n",
       "      <th>Rank</th>\n",
       "      <th>Name</th>\n",
       "      <th>Platform</th>\n",
       "    </tr>\n",
       "  </thead>\n",
       "  <tbody>\n",
       "    <tr>\n",
       "      <th>33</th>\n",
       "      <td>34</td>\n",
       "      <td>Call of Duty: Black Ops 3</td>\n",
       "      <td>PS4</td>\n",
       "    </tr>\n",
       "    <tr>\n",
       "      <th>44</th>\n",
       "      <td>45</td>\n",
       "      <td>Grand Theft Auto V</td>\n",
       "      <td>PS4</td>\n",
       "    </tr>\n",
       "    <tr>\n",
       "      <th>77</th>\n",
       "      <td>78</td>\n",
       "      <td>FIFA 16</td>\n",
       "      <td>PS4</td>\n",
       "    </tr>\n",
       "    <tr>\n",
       "      <th>92</th>\n",
       "      <td>93</td>\n",
       "      <td>Star Wars Battlefront (2015)</td>\n",
       "      <td>PS4</td>\n",
       "    </tr>\n",
       "    <tr>\n",
       "      <th>93</th>\n",
       "      <td>94</td>\n",
       "      <td>Call of Duty: Advanced Warfare</td>\n",
       "      <td>PS4</td>\n",
       "    </tr>\n",
       "    <tr>\n",
       "      <th>109</th>\n",
       "      <td>110</td>\n",
       "      <td>Fallout 4</td>\n",
       "      <td>PS4</td>\n",
       "    </tr>\n",
       "    <tr>\n",
       "      <th>124</th>\n",
       "      <td>125</td>\n",
       "      <td>FIFA 15</td>\n",
       "      <td>PS4</td>\n",
       "    </tr>\n",
       "    <tr>\n",
       "      <th>154</th>\n",
       "      <td>155</td>\n",
       "      <td>Destiny</td>\n",
       "      <td>PS4</td>\n",
       "    </tr>\n",
       "    <tr>\n",
       "      <th>221</th>\n",
       "      <td>222</td>\n",
       "      <td>FIFA 17</td>\n",
       "      <td>PS4</td>\n",
       "    </tr>\n",
       "    <tr>\n",
       "      <th>236</th>\n",
       "      <td>237</td>\n",
       "      <td>The Last of Us</td>\n",
       "      <td>PS4</td>\n",
       "    </tr>\n",
       "    <tr>\n",
       "      <th>15993</th>\n",
       "      <td>16046</td>\n",
       "      <td>Raven's Cry</td>\n",
       "      <td>PS4</td>\n",
       "    </tr>\n",
       "    <tr>\n",
       "      <th>15998</th>\n",
       "      <td>16051</td>\n",
       "      <td>God Eater Off Shot:Shiou-hen Twin Pack &amp; Anima...</td>\n",
       "      <td>PS4</td>\n",
       "    </tr>\n",
       "    <tr>\n",
       "      <th>16045</th>\n",
       "      <td>16098</td>\n",
       "      <td>Resident Evil 5 HD</td>\n",
       "      <td>PS4</td>\n",
       "    </tr>\n",
       "    <tr>\n",
       "      <th>16086</th>\n",
       "      <td>16139</td>\n",
       "      <td>Dragon's Dogma Online: Season 2</td>\n",
       "      <td>PS4</td>\n",
       "    </tr>\n",
       "    <tr>\n",
       "      <th>16125</th>\n",
       "      <td>16178</td>\n",
       "      <td>Republique</td>\n",
       "      <td>PS4</td>\n",
       "    </tr>\n",
       "    <tr>\n",
       "      <th>16167</th>\n",
       "      <td>16223</td>\n",
       "      <td>Dynasty Warriors: Eiketsuden</td>\n",
       "      <td>PS4</td>\n",
       "    </tr>\n",
       "    <tr>\n",
       "      <th>16206</th>\n",
       "      <td>16263</td>\n",
       "      <td>Paragon</td>\n",
       "      <td>PS4</td>\n",
       "    </tr>\n",
       "    <tr>\n",
       "      <th>16279</th>\n",
       "      <td>16336</td>\n",
       "      <td>Chaos;Child</td>\n",
       "      <td>PS4</td>\n",
       "    </tr>\n",
       "    <tr>\n",
       "      <th>16493</th>\n",
       "      <td>16553</td>\n",
       "      <td>God Eater Off Shot: Tachibana Sakuya-hen Twin ...</td>\n",
       "      <td>PS4</td>\n",
       "    </tr>\n",
       "    <tr>\n",
       "      <th>16512</th>\n",
       "      <td>16573</td>\n",
       "      <td>Farming 2017 - The Simulation</td>\n",
       "      <td>PS4</td>\n",
       "    </tr>\n",
       "  </tbody>\n",
       "</table>\n",
       "</div>"
      ],
      "text/plain": [
       "        Rank                                               Name Platform\n",
       "33        34                          Call of Duty: Black Ops 3      PS4\n",
       "44        45                                 Grand Theft Auto V      PS4\n",
       "77        78                                            FIFA 16      PS4\n",
       "92        93                       Star Wars Battlefront (2015)      PS4\n",
       "93        94                     Call of Duty: Advanced Warfare      PS4\n",
       "109      110                                          Fallout 4      PS4\n",
       "124      125                                            FIFA 15      PS4\n",
       "154      155                                            Destiny      PS4\n",
       "221      222                                            FIFA 17      PS4\n",
       "236      237                                     The Last of Us      PS4\n",
       "15993  16046                                        Raven's Cry      PS4\n",
       "15998  16051  God Eater Off Shot:Shiou-hen Twin Pack & Anima...      PS4\n",
       "16045  16098                                 Resident Evil 5 HD      PS4\n",
       "16086  16139                    Dragon's Dogma Online: Season 2      PS4\n",
       "16125  16178                                         Republique      PS4\n",
       "16167  16223                       Dynasty Warriors: Eiketsuden      PS4\n",
       "16206  16263                                            Paragon      PS4\n",
       "16279  16336                                        Chaos;Child      PS4\n",
       "16493  16553  God Eater Off Shot: Tachibana Sakuya-hen Twin ...      PS4\n",
       "16512  16573                      Farming 2017 - The Simulation      PS4"
      ]
     },
     "metadata": {},
     "execution_count": 116
    }
   ],
   "metadata": {}
  },
  {
   "cell_type": "code",
   "execution_count": 115,
   "source": [
    "print('total de registros:',ps4.shape[0])"
   ],
   "outputs": [
    {
     "output_type": "stream",
     "name": "stdout",
     "text": [
      "total de registros: 336\n"
     ]
    }
   ],
   "metadata": {}
  },
  {
   "cell_type": "markdown",
   "source": [
    "### Gráfico evolución del crecimiento de la población en 3 paises"
   ],
   "metadata": {}
  },
  {
   "cell_type": "code",
   "execution_count": 61,
   "source": [
    "countries = pd.read_csv(\"data/countries.csv\")\r\n",
    "Argentina = countries[(countries[\"country\"]==\"Argentina\")]\r\n",
    "Spain = countries[(countries[\"country\"]==\"Spain\")]\r\n",
    "Chile = countries[(countries[\"country\"]==\"Chile\")]"
   ],
   "outputs": [],
   "metadata": {}
  },
  {
   "cell_type": "code",
   "execution_count": 77,
   "source": [
    "Ar_po = Argentina[\"population\"]\r\n",
    "Ch_po = Chile[\"population\"]\r\n",
    "Sp_po = Spain[\"population\"]\r\n",
    "year = Argentina[\"year\"]"
   ],
   "outputs": [],
   "metadata": {}
  },
  {
   "cell_type": "code",
   "execution_count": 104,
   "source": [
    "plt.plot(year, Ar_po, marker=\"D\", lw=\"2\", markersize=\"8\")\r\n",
    "plt.plot(year, Ch_po, marker=\"s\", lw=\"2\", markersize=\"8\")\r\n",
    "plt.plot(year, Sp_po, marker=\"o\", lw=\"2\", markersize=\"8\")\r\n",
    "plt.xlabel(\"Años\")\r\n",
    "plt.ylabel(\"Habitantes\")\r\n",
    "plt.grid()\r\n",
    "plt.title(\"Crecimiento de Población\")\r\n",
    "plt.legend([\"Argentina\",\"Chile\",\"Spain\"])\r\n"
   ],
   "outputs": [
    {
     "output_type": "execute_result",
     "data": {
      "text/plain": [
       "<matplotlib.legend.Legend at 0x120ee300f40>"
      ]
     },
     "metadata": {},
     "execution_count": 104
    },
    {
     "output_type": "display_data",
     "data": {
      "image/png": "[encoded data removed]",
      "text/plain": [
       "<Figure size 432x288 with 1 Axes>"
      ]
     },
     "metadata": {
      "needs_background": "light"
     }
    }
   ],
   "metadata": {}
  },
  {
   "cell_type": "code",
   "execution_count": null,
   "source": [
    "#                                            :)"
   ],
   "outputs": [],
   "metadata": {}
  }
 ],
 "metadata": {
  "kernelspec": {
   "display_name": "Python 3",
   "language": "python",
   "name": "python3"
  },
  "language_info": {
   "codemirror_mode": {
    "name": "ipython",
    "version": 3
   },
   "file_extension": ".py",
   "mimetype": "text/x-python",
   "name": "python",
   "nbconvert_exporter": "python",
   "pygments_lexer": "ipython3",
   "version": "3.8.5"
  }
 },
 "nbformat": 4,
 "nbformat_minor": 5
}