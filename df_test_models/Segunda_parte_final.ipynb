{
 "cells": [
  {
   "cell_type": "markdown",
   "source": [
    "# Segunda parte"
   ],
   "metadata": {}
  },
  {
   "cell_type": "code",
   "execution_count": 1,
   "source": [
    "#importo las librerias\r\n",
    "import pandas as pd\r\n",
    "from sklearn.neighbors import KNeighborsRegressor\r\n",
    "from sklearn.tree import DecisionTreeRegressor\r\n",
    "from sklearn.linear_model import LinearRegression\r\n",
    "from sklearn.model_selection import train_test_split\r\n",
    "from sklearn.metrics import mean_squared_error\r\n",
    "import pickle"
   ],
   "outputs": [],
   "metadata": {}
  },
  {
   "cell_type": "code",
   "execution_count": 2,
   "source": [
    "#cargo los datos solicitados y los muestro\r\n",
    "df=pd.read_csv('df_alumno.csv')\r\n",
    "df"
   ],
   "outputs": [
    {
     "output_type": "execute_result",
     "data": {
      "text/html": [
       "<div>\n",
       "<style scoped>\n",
       "    .dataframe tbody tr th:only-of-type {\n",
       "        vertical-align: middle;\n",
       "    }\n",
       "\n",
       "    .dataframe tbody tr th {\n",
       "        vertical-align: top;\n",
       "    }\n",
       "\n",
       "    .dataframe thead th {\n",
       "        text-align: right;\n",
       "    }\n",
       "</style>\n",
       "<table border=\"1\" class=\"dataframe\">\n",
       "  <thead>\n",
       "    <tr style=\"text-align: right;\">\n",
       "      <th></th>\n",
       "      <th>x1</th>\n",
       "      <th>x2</th>\n",
       "      <th>x3</th>\n",
       "      <th>x4</th>\n",
       "      <th>y</th>\n",
       "    </tr>\n",
       "  </thead>\n",
       "  <tbody>\n",
       "    <tr>\n",
       "      <th>0</th>\n",
       "      <td>0.416124</td>\n",
       "      <td>-0.132801</td>\n",
       "      <td>-1.701496</td>\n",
       "      <td>-0.238565</td>\n",
       "      <td>-143.435812</td>\n",
       "    </tr>\n",
       "    <tr>\n",
       "      <th>1</th>\n",
       "      <td>-0.355414</td>\n",
       "      <td>-1.184877</td>\n",
       "      <td>-0.696990</td>\n",
       "      <td>-1.101422</td>\n",
       "      <td>-122.538673</td>\n",
       "    </tr>\n",
       "    <tr>\n",
       "      <th>2</th>\n",
       "      <td>2.261787</td>\n",
       "      <td>1.125440</td>\n",
       "      <td>-0.170084</td>\n",
       "      <td>0.184930</td>\n",
       "      <td>51.092290</td>\n",
       "    </tr>\n",
       "    <tr>\n",
       "      <th>3</th>\n",
       "      <td>0.511043</td>\n",
       "      <td>-0.214256</td>\n",
       "      <td>0.169691</td>\n",
       "      <td>-0.695636</td>\n",
       "      <td>-5.438611</td>\n",
       "    </tr>\n",
       "    <tr>\n",
       "      <th>4</th>\n",
       "      <td>0.092654</td>\n",
       "      <td>0.876131</td>\n",
       "      <td>1.746120</td>\n",
       "      <td>0.867554</td>\n",
       "      <td>190.830139</td>\n",
       "    </tr>\n",
       "    <tr>\n",
       "      <th>...</th>\n",
       "      <td>...</td>\n",
       "      <td>...</td>\n",
       "      <td>...</td>\n",
       "      <td>...</td>\n",
       "      <td>...</td>\n",
       "    </tr>\n",
       "    <tr>\n",
       "      <th>795</th>\n",
       "      <td>0.340486</td>\n",
       "      <td>0.305451</td>\n",
       "      <td>1.099399</td>\n",
       "      <td>-0.282413</td>\n",
       "      <td>91.377042</td>\n",
       "    </tr>\n",
       "    <tr>\n",
       "      <th>796</th>\n",
       "      <td>1.689880</td>\n",
       "      <td>-0.262399</td>\n",
       "      <td>-0.955471</td>\n",
       "      <td>0.553504</td>\n",
       "      <td>-33.030237</td>\n",
       "    </tr>\n",
       "    <tr>\n",
       "      <th>797</th>\n",
       "      <td>-0.135982</td>\n",
       "      <td>-0.805562</td>\n",
       "      <td>1.474405</td>\n",
       "      <td>-0.523860</td>\n",
       "      <td>87.061835</td>\n",
       "    </tr>\n",
       "    <tr>\n",
       "      <th>798</th>\n",
       "      <td>-0.294396</td>\n",
       "      <td>-0.860427</td>\n",
       "      <td>-0.371780</td>\n",
       "      <td>0.159412</td>\n",
       "      <td>-44.088839</td>\n",
       "    </tr>\n",
       "    <tr>\n",
       "      <th>799</th>\n",
       "      <td>1.815652</td>\n",
       "      <td>-0.252750</td>\n",
       "      <td>0.551302</td>\n",
       "      <td>0.419589</td>\n",
       "      <td>88.606428</td>\n",
       "    </tr>\n",
       "  </tbody>\n",
       "</table>\n",
       "<p>800 rows × 5 columns</p>\n",
       "</div>"
      ],
      "text/plain": [
       "           x1        x2        x3        x4           y\n",
       "0    0.416124 -0.132801 -1.701496 -0.238565 -143.435812\n",
       "1   -0.355414 -1.184877 -0.696990 -1.101422 -122.538673\n",
       "2    2.261787  1.125440 -0.170084  0.184930   51.092290\n",
       "3    0.511043 -0.214256  0.169691 -0.695636   -5.438611\n",
       "4    0.092654  0.876131  1.746120  0.867554  190.830139\n",
       "..        ...       ...       ...       ...         ...\n",
       "795  0.340486  0.305451  1.099399 -0.282413   91.377042\n",
       "796  1.689880 -0.262399 -0.955471  0.553504  -33.030237\n",
       "797 -0.135982 -0.805562  1.474405 -0.523860   87.061835\n",
       "798 -0.294396 -0.860427 -0.371780  0.159412  -44.088839\n",
       "799  1.815652 -0.252750  0.551302  0.419589   88.606428\n",
       "\n",
       "[800 rows x 5 columns]"
      ]
     },
     "metadata": {},
     "execution_count": 2
    }
   ],
   "metadata": {}
  },
  {
   "cell_type": "code",
   "execution_count": 3,
   "source": [
    "#divido en train y test \r\n",
    "X = df.drop(columns = 'y')\r\n",
    "Y = df['y']\r\n",
    "X_train, X_test, Y_train, Y_test = train_test_split(X, Y, test_size=0.2, random_state = 123)"
   ],
   "outputs": [],
   "metadata": {}
  },
  {
   "cell_type": "code",
   "execution_count": 4,
   "source": [
    "#divido en train_validation y test_validation\r\n",
    "X_val_train, X_val_test, Y_val_train, Y_val_test = train_test_split(X_train,Y_train,test_size=0.2,random_state=123)"
   ],
   "outputs": [],
   "metadata": {}
  },
  {
   "cell_type": "markdown",
   "source": [
    "# ---------------------------------------------------------------------------------------------------------------"
   ],
   "metadata": {}
  },
  {
   "cell_type": "code",
   "execution_count": 5,
   "source": [
    "#elijo parametros y entreno el modelo knn\r\n",
    "knn = KNeighborsRegressor(n_neighbors=3, weights=\"distance\",metric=\"euclidean\")\r\n",
    "knn.fit(X_val_train,Y_val_train)"
   ],
   "outputs": [
    {
     "output_type": "execute_result",
     "data": {
      "text/plain": [
       "KNeighborsRegressor(metric='euclidean', n_neighbors=3, weights='distance')"
      ]
     },
     "metadata": {},
     "execution_count": 5
    }
   ],
   "metadata": {}
  },
  {
   "cell_type": "code",
   "execution_count": 6,
   "source": [
    "#hago un predict del modelo y muestro su RMSE y el Score\r\n",
    "Y_predK=knn.predict(X_val_test)\r\n",
    "mean_squared_error(Y_val_test, Y_predK,squared=False)\r\n",
    "\r\n",
    "print(\"RMSE: \", round(mean_squared_error(Y_val_test, Y_predK,squared=False),3))\r\n",
    "print(\"Score: \",knn.score(X_val_test,Y_val_test))"
   ],
   "outputs": [
    {
     "output_type": "stream",
     "name": "stdout",
     "text": [
      "RMSE:  25.93\n",
      "Score:  0.9238076071045551\n"
     ]
    }
   ],
   "metadata": {}
  },
  {
   "cell_type": "markdown",
   "source": [
    "# ---------------------------------------------------------------------------------------------------------------"
   ],
   "metadata": {}
  },
  {
   "cell_type": "code",
   "execution_count": 7,
   "source": [
    "#elijo parametros y entreno el modelo de regresion lineal\r\n",
    "modelo = LinearRegression(fit_intercept=True)\r\n",
    "modelo.fit(X_val_train,Y_val_train)"
   ],
   "outputs": [
    {
     "output_type": "execute_result",
     "data": {
      "text/plain": [
       "LinearRegression()"
      ]
     },
     "metadata": {},
     "execution_count": 7
    }
   ],
   "metadata": {}
  },
  {
   "cell_type": "code",
   "execution_count": 8,
   "source": [
    "##hago un predict del modelo y muestro su RMSE y el Score\r\n",
    "Y_predL=modelo.predict(X_val_test)\r\n",
    "mean_squared_error(Y_val_test, Y_predL,squared=False)\r\n",
    "\r\n",
    "print(\"RMSE: \", round(mean_squared_error(Y_val_test, Y_predL,squared=False),3))\r\n",
    "print(\"Score: \",modelo.score(X_val_test,Y_val_test))"
   ],
   "outputs": [
    {
     "output_type": "stream",
     "name": "stdout",
     "text": [
      "RMSE:  0.0\n",
      "Score:  1.0\n"
     ]
    }
   ],
   "metadata": {}
  },
  {
   "cell_type": "markdown",
   "source": [
    "# ---------------------------------------------------------------------------------------------------------------"
   ],
   "metadata": {}
  },
  {
   "cell_type": "code",
   "execution_count": 9,
   "source": [
    "#elijo parametros y entreno el modelo de arbol\r\n",
    "tree=DecisionTreeRegressor(max_depth=13, random_state=123)\r\n",
    "tree.fit(X_val_train,Y_val_train)"
   ],
   "outputs": [
    {
     "output_type": "execute_result",
     "data": {
      "text/plain": [
       "DecisionTreeRegressor(max_depth=13, random_state=123)"
      ]
     },
     "metadata": {},
     "execution_count": 9
    }
   ],
   "metadata": {}
  },
  {
   "cell_type": "code",
   "execution_count": 10,
   "source": [
    "#hago un predict del modelo y muestro su RMSE y el Score\r\n",
    "Y_predT=tree.predict(X_val_test)\r\n",
    "mean_squared_error(Y_val_test, Y_predT,squared=False)\r\n",
    "\r\n",
    "print(\"RMSE: \", round(mean_squared_error(Y_val_test, Y_predT,squared=False),3))\r\n",
    "print(\"Score: \",tree.score(X_val_test,Y_val_test))"
   ],
   "outputs": [
    {
     "output_type": "stream",
     "name": "stdout",
     "text": [
      "RMSE:  29.309\n",
      "Score:  0.9026566921243279\n"
     ]
    }
   ],
   "metadata": {}
  },
  {
   "cell_type": "markdown",
   "source": [
    "# ---------------------------------------------------------------------------------------------------------------"
   ],
   "metadata": {}
  },
  {
   "cell_type": "code",
   "execution_count": 16,
   "source": [
    "#evaluo el modelo seleccionado \r\n",
    "#cambio de knn a linerar regression \r\n",
    "Modelo_final = LinearRegression(fit_intercept=True)"
   ],
   "outputs": [],
   "metadata": {}
  },
  {
   "cell_type": "code",
   "execution_count": 17,
   "source": [
    "Modelo_final.fit(X_train,Y_train)"
   ],
   "outputs": [
    {
     "output_type": "execute_result",
     "data": {
      "text/plain": [
       "LinearRegression()"
      ]
     },
     "metadata": {},
     "execution_count": 17
    }
   ],
   "metadata": {}
  },
  {
   "cell_type": "code",
   "execution_count": 18,
   "source": [
    "Y_Modelo_final = Modelo_final.predict(X_test)\r\n",
    "mean_squared_error(Y_test, Y_Modelo_final,squared=False)\r\n",
    "\r\n",
    "print(\"RMSE: \", round(mean_squared_error(Y_test, Y_Modelo_final,squared=False),3))\r\n",
    "print(\"Score: \",Modelo_final.score(X_val_test,Y_val_test))"
   ],
   "outputs": [
    {
     "output_type": "stream",
     "name": "stdout",
     "text": [
      "RMSE:  0.0\n",
      "Score:  1.0\n"
     ]
    }
   ],
   "metadata": {}
  },
  {
   "cell_type": "code",
   "execution_count": 19,
   "source": [
    "#paso el modelo a produccion\r\n",
    "modelo_produccion = LinearRegression(fit_intercept=True)\r\n",
    "modelo_produccion.fit(X,Y)"
   ],
   "outputs": [
    {
     "output_type": "execute_result",
     "data": {
      "text/plain": [
       "LinearRegression()"
      ]
     },
     "metadata": {},
     "execution_count": 19
    }
   ],
   "metadata": {}
  },
  {
   "cell_type": "code",
   "execution_count": 20,
   "source": [
    "archivo='ejercicio_2_modelo.sav_cambio'\r\n",
    "\r\n",
    "pickle.dump(modelo_produccion, open (archivo,'wb'))"
   ],
   "outputs": [],
   "metadata": {}
  }
 ],
 "metadata": {
  "kernelspec": {
   "display_name": "Python 3",
   "language": "python",
   "name": "python3"
  },
  "language_info": {
   "codemirror_mode": {
    "name": "ipython",
    "version": 3
   },
   "file_extension": ".py",
   "mimetype": "text/x-python",
   "name": "python",
   "nbconvert_exporter": "python",
   "pygments_lexer": "ipython3",
   "version": "3.8.8"
  }
 },
 "nbformat": 4,
 "nbformat_minor": 4
}