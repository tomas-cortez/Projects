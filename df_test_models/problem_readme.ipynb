{
 "cells": [
  {
   "cell_type": "markdown",
   "source": [
    "# PARCIAL 1 - PRÁCTICO\n",
    "# Materia: Aprendizaje Automático 1\n"
   ],
   "metadata": {}
  },
  {
   "cell_type": "markdown",
   "source": [
    "## PRIMERA PARTE  \n",
    "\n",
    "La primera parte son 3 ejercicios \"estándar\" sobre el mismo dataset.  \n",
    "\n",
    "- Puede resolverlos a continuación de su enunciado o resolver cada uno en un archivo de Jupyter por separado, si es así, indíquelo en el nombre de cada uno. \n",
    "- Sea claro con su código y lo más explícito posible. Explique todo lo que haga. \n",
    "- Destaque los resultados de las evaluaciones solicitadas.\n",
    "\n"
   ],
   "metadata": {}
  },
  {
   "cell_type": "markdown",
   "source": [
    "### Ejercicio 1\n",
    "Esta parte corresponde a un Problema de Clasificación.  \n",
    "\n",
    "Dado el dataset que se encuentra en el archivo *df1.csv* que consta de 3 variables X y la variable a pronosticar y. En este caso las etiquetas de la variable y a pronosticar son los valores 0, 1 y 2   \n",
    "\n",
    "- Crear un modelo de **árbol con hiperparámetro de profundidad 5**\n",
    "- Evaluarlo, calculando: Accuracy y F1.\n",
    "- En todos los casos que sea necesario utilice semilla aleatoria= 123 (random_state=123)\n",
    "- Utilice proporción 80% / 20% para dividir datasets."
   ],
   "metadata": {}
  },
  {
   "cell_type": "markdown",
   "source": [
    "### Ejercicio 2\n",
    "Con los mismos datos del problema anterior.  \n",
    "\n",
    "\n",
    "- Crear un modelo de kNN con hiperparámetro k=7 vecinos y **ponderación** uniforme.\n",
    "- Evaluarlo, calculando: Accuracy y F1.  \n",
    "- En todos los casos que sea necesario utilice semilla aleatoria= 123 (random_state=123)  \n",
    "- Utilice proporción 80% / 20% para dividir datasets.  \n"
   ],
   "metadata": {
    "ExecuteTime": {
     "end_time": "2020-09-29T18:25:50.445617Z",
     "start_time": "2020-09-29T18:25:50.438598Z"
    }
   }
  },
  {
   "cell_type": "markdown",
   "source": [
    "### Ejercicio 3\n",
    "Con los mismos datos del problema anterior.  \n",
    "\n",
    "\n",
    "- Crear un modelo de kNN con hiperparámetro k=7 vecinos y **ponderando** según la  distancia.\n",
    "- Evaluarlo, calculando: Accuracy y F1.\n",
    "- Utilice proporción 80% / 20% para dividir datasets."
   ],
   "metadata": {}
  },
  {
   "cell_type": "markdown",
   "source": [
    "## SEGUNDA PARTE"
   ],
   "metadata": {}
  },
  {
   "cell_type": "markdown",
   "source": [
    "### Consigna:\r\n",
    "\r\n",
    "\r\n",
    "> En este caso va a tener que **seleccionar** el mejor modelo que resuelva un problema de Regresión en base a los datos provistos en el archivo *df_alumno.csv* , deberá probar con todos los modelos que hemos visto y sus correspondientes hiperparámetros. También deberá generar el modelo para producción. Deberá elegir qué modelo funciona mejor evaluando con el RMSE.   \r\n",
    "\r\n",
    "> Una vez que tenga el modelo de producción deberá pronosticar los valores de y para las observaciones contenidas en el archivo *df_X_reales.csv*. Deberá llamar a los valores pronosticados con el nombre ypred.\r\n",
    "\r\n",
    "\r\n"
   ],
   "metadata": {}
  }
 ],
 "metadata": {
  "hide_input": false,
  "kernelspec": {
   "display_name": "Python 3",
   "language": "python",
   "name": "python3"
  },
  "language_info": {
   "codemirror_mode": {
    "name": "ipython",
    "version": 3
   },
   "file_extension": ".py",
   "mimetype": "text/x-python",
   "name": "python",
   "nbconvert_exporter": "python",
   "pygments_lexer": "ipython3",
   "version": "3.8.5"
  },
  "toc": {
   "base_numbering": 1,
   "nav_menu": {},
   "number_sections": true,
   "sideBar": true,
   "skip_h1_title": true,
   "title_cell": "Tabla de Contenidos",
   "title_sidebar": "Contenidos",
   "toc_cell": false,
   "toc_position": {
    "height": "calc(100% - 180px)",
    "left": "10px",
    "top": "150px",
    "width": "165px"
   },
   "toc_section_display": true,
   "toc_window_display": true
  },
  "varInspector": {
   "cols": {
    "lenName": 16,
    "lenType": 16,
    "lenVar": 40
   },
   "kernels_config": {
    "python": {
     "delete_cmd_postfix": "",
     "delete_cmd_prefix": "del ",
     "library": "var_list.py",
     "varRefreshCmd": "print(var_dic_list())"
    },
    "r": {
     "delete_cmd_postfix": ") ",
     "delete_cmd_prefix": "rm(",
     "library": "var_list.r",
     "varRefreshCmd": "cat(var_dic_list()) "
    }
   },
   "types_to_exclude": [
    "module",
    "function",
    "builtin_function_or_method",
    "instance",
    "_Feature"
   ],
   "window_display": false
  }
 },
 "nbformat": 4,
 "nbformat_minor": 4
}