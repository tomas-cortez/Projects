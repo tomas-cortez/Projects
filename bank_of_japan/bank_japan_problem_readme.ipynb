{
 "cells": [
  {
   "cell_type": "markdown",
   "source": [
    "# Aprendizaje Automático 1"
   ],
   "metadata": {}
  },
  {
   "cell_type": "markdown",
   "source": [
    "## Primera Parte - Imputación\r\n",
    "\r\n",
    "- Se le da el dataset real correspondiente a un Banco de Japón, *japan_bank_500_conNulos.csv*. En este dataset la variable target es la y, en cuanto a las features las hay numéricas y categóricas.\r\n",
    "- El banco no nos proveyó de una descripción de qué es cada variable (habitual en estos casos!) .  \r\n",
    "\r\n",
    "- El dataset tiene muchos nulos.   \r\n",
    "\r\n",
    "- Su primer tarea es imputar algún tipo de valor a los nulos de cada feature. \r\n",
    "\r\n",
    "Para ello:  \r\n",
    "\r\n",
    "- Divida  hasta Validation Train y Validation Test. Cada división deberá hacerse 80/20 y con semilla 123.\r\n",
    "\r\n",
    "- A nivel de Validation probará distintas formas de imputar los nulos y las evaluará en un modelo fijo que será árbol con 4 niveles de profundidad en todos los casos. Tenga en cuenta que las variables categóricas deberán pasar por OneHotEncoder para ser útiles y la misma target posiblemente también. \r\n",
    "\r\n",
    "- La estrategia de imputación que le de mejor resultado de Accuracy con el mencionado árbol entrenando en el Validation Train y evaluando en el Validation Test será la forma de imputación elegida para la segunda parte. \r\n",
    "\r\n",
    "\r\n"
   ],
   "metadata": {}
  },
  {
   "cell_type": "markdown",
   "source": [
    "## Segunda Parte:  \n",
    "\n",
    "Una vez decidido cómo imputará deberá elegir el modelo que mejor sirve para pronosticar los valores del target.   \n",
    "- Tenga en cuenta que como hará selección de modelo e hiperparámetros deberá compararlos en el Validation.     \n",
    "- Una vez elegido el mejor modelo, deberá indicar cuál es la Accuracy Esperada cuando el modelo se use con nuevas observaciones.   \n",
    " En la celda siguiente indique cuál fue:  \n",
    " \n",
    " - modelo elegido:  \n",
    " - hiperparámetros:  \n",
    " - Accuracy Esperada"
   ],
   "metadata": {}
  },
  {
   "cell_type": "markdown",
   "source": [
    "## Tercera Parte:   \n",
    "\n",
    "Ahora deberá generar el modelo para Producción.   \n",
    "\n",
    "- En base a lo anterior cree el modelo para producción.  \n",
    "\n",
    "- Empléelo para pronosticar los valores de y para el dataset *japan_bank_190_X_conNulos_.csv*  que tiene 190 observaciones nuevas.    \n",
    "\n",
    "- Debe guardar los pronósticos en un dataFrame de Pandas de una sola columna exportado a formato csv. El nombre de la columna debe ser y_pred. El nombre del Archivo debe ser SuApellido_SuNombre.csv y deberá entregarlo junto con el desarrollo completo del Parcial."
   ],
   "metadata": {}
  }
 ],
 "metadata": {
  "kernelspec": {
   "display_name": "Python 3",
   "language": "python",
   "name": "python3"
  },
  "language_info": {
   "codemirror_mode": {
    "name": "ipython",
    "version": 3
   },
   "file_extension": ".py",
   "mimetype": "text/x-python",
   "name": "python",
   "nbconvert_exporter": "python",
   "pygments_lexer": "ipython3",
   "version": "3.8.5"
  },
  "latex_envs": {
   "LaTeX_envs_menu_present": true,
   "autoclose": false,
   "autocomplete": true,
   "bibliofile": "biblio.bib",
   "cite_by": "apalike",
   "current_citInitial": 1,
   "eqLabelWithNumbers": true,
   "eqNumInitial": 1,
   "hotkeys": {
    "equation": "Ctrl-E",
    "itemize": "Ctrl-I"
   },
   "labels_anchors": false,
   "latex_user_defs": false,
   "report_style_numbering": false,
   "user_envs_cfg": false
  },
  "toc": {
   "base_numbering": 1,
   "nav_menu": {},
   "number_sections": true,
   "sideBar": true,
   "skip_h1_title": false,
   "title_cell": "Table of Contents",
   "title_sidebar": "Contents",
   "toc_cell": false,
   "toc_position": {},
   "toc_section_display": true,
   "toc_window_display": false
  },
  "varInspector": {
   "cols": {
    "lenName": 16,
    "lenType": 16,
    "lenVar": 40
   },
   "kernels_config": {
    "python": {
     "delete_cmd_postfix": "",
     "delete_cmd_prefix": "del ",
     "library": "var_list.py",
     "varRefreshCmd": "print(var_dic_list())"
    },
    "r": {
     "delete_cmd_postfix": ") ",
     "delete_cmd_prefix": "rm(",
     "library": "var_list.r",
     "varRefreshCmd": "cat(var_dic_list()) "
    }
   },
   "types_to_exclude": [
    "module",
    "function",
    "builtin_function_or_method",
    "instance",
    "_Feature"
   ],
   "window_display": false
  }
 },
 "nbformat": 4,
 "nbformat_minor": 2
}